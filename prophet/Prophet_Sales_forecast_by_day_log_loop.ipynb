{
 "cells": [
  {
   "cell_type": "code",
   "execution_count": 1,
   "metadata": {},
   "outputs": [],
   "source": [
    "import pandas as pd\n",
    "import matplotlib.pyplot as plt\n",
    "import numpy as np\n",
    "import math\n",
    "\n",
    "from fbprophet import Prophet"
   ]
  },
  {
   "cell_type": "code",
   "execution_count": 2,
   "metadata": {},
   "outputs": [],
   "source": [
    "# function to run Prophet and return the forecast\n",
    "def ProphetForecast(df_input):\n",
    "    m = Prophet(daily_seasonality=False, yearly_seasonality=True, \n",
    "            seasonality_mode='multiplicative', growth='logistic')\n",
    "    m.fit(df_input)\n",
    "    # find how many periods we need by finding the last day in the item\n",
    "    days_to_predict = pd.to_datetime('2016-1-31') - df_input['ds'].max()\n",
    "    future = m.make_future_dataframe(periods=days_to_predict.days)\n",
    "    # in logarithmic space 10-2 is 0.01\n",
    "    future['floor'] = -2\n",
    "    future['cap'] = df_input['y'].max()\n",
    "    forecast = m.predict(future)\n",
    "    return forecast"
   ]
  },
  {
   "cell_type": "code",
   "execution_count": 3,
   "metadata": {},
   "outputs": [],
   "source": [
    "df_sales = pd.read_csv('sales_train_v2.csv')\n",
    "df_sales['ds'] = pd.to_datetime(df_sales['date'],  dayfirst=True)\n",
    "\n",
    "# remove 0 or negative item count\n",
    "df_sales = df_sales.loc[df_sales['item_cnt_day']>0]\n"
   ]
  },
  {
   "cell_type": "markdown",
   "metadata": {},
   "source": [
    "# Create dataframe of most sold items"
   ]
  },
  {
   "cell_type": "code",
   "execution_count": 4,
   "metadata": {},
   "outputs": [],
   "source": [
    "# find the most sold items\n",
    "df_sales_totalitem = df_sales.loc[(df_sales['item_cnt_day']>0)]\n",
    "df_sales_totalitem = df_sales_totalitem.groupby(['item_id'])['item_cnt_day'].sum().reset_index(name='item_cnt_total')\n",
    "df_sales_totalitem = df_sales_totalitem.sort_values(by='item_cnt_total',ascending=False)\n",
    "# drop items that did not sell more than 3000 items to start\n",
    "df_sales_totalitem = df_sales_totalitem.loc[df_sales_totalitem['item_cnt_total']>3000]"
   ]
  },
  {
   "cell_type": "markdown",
   "metadata": {},
   "source": [
    "# Loop starts here"
   ]
  },
  {
   "cell_type": "code",
   "execution_count": 5,
   "metadata": {},
   "outputs": [
    {
     "name": "stderr",
     "output_type": "stream",
     "text": [
      "INFO:numexpr.utils:NumExpr defaulting to 2 threads.\n"
     ]
    },
    {
     "name": "stdout",
     "output_type": "stream",
     "text": [
      "item_id: 20949.0, total items:187660.0, Nov 2015 forecast: 3079\n",
      "item_id: 2808.0, total items:17255.0, Nov 2015 forecast: 40\n",
      "item_id: 3732.0, total items:16676.0, Nov 2015 forecast: 45\n",
      "item_id: 17717.0, total items:15830.0, Nov 2015 forecast: 733\n",
      "item_id: 5822.0, total items:14522.0, Nov 2015 forecast: 235\n",
      "item_id: 3734.0, total items:11733.0, Nov 2015 forecast: 45\n",
      "item_id: 6675.0, total items:10315.0, Nov 2015 forecast: 50\n",
      "item_id: 3731.0, total items:10105.0, Nov 2015 forecast: 51\n",
      "item_id: 1855.0, total items:10041.0, Nov 2015 forecast: 37\n",
      "item_id: 16787.0, total items:9255.0, Nov 2015 forecast: 25\n",
      "item_id: 7856.0, total items:9016.0, Nov 2015 forecast: 62\n",
      "item_id: 4181.0, total items:8872.0, Nov 2015 forecast: 198\n",
      "item_id: 3331.0, total items:8278.0, Nov 2015 forecast: 36\n",
      "item_id: 2445.0, total items:7800.0, Nov 2015 forecast: 45\n",
      "item_id: 2308.0, total items:7598.0, Nov 2015 forecast: 148\n",
      "item_id: 4870.0, total items:7574.0, Nov 2015 forecast: 93\n",
      "item_id: 6738.0, total items:7357.0, Nov 2015 forecast: 46\n",
      "item_id: 2814.0, total items:7106.0, Nov 2015 forecast: 8\n",
      "item_id: 1830.0, total items:6990.0, Nov 2015 forecast: 20\n",
      "item_id: 11373.0, total items:6563.0, Nov 2015 forecast: 298\n",
      "item_id: 6503.0, total items:6562.0, Nov 2015 forecast: 107\n",
      "item_id: 5823.0, total items:6524.0, Nov 2015 forecast: 185\n",
      "item_id: 3733.0, total items:6524.0, Nov 2015 forecast: 6\n",
      "item_id: 6740.0, total items:6281.0, Nov 2015 forecast: 37\n",
      "item_id: 5821.0, total items:6250.0, Nov 2015 forecast: 233\n",
      "item_id: 16790.0, total items:6232.0, Nov 2015 forecast: 29\n",
      "item_id: 11370.0, total items:6163.0, Nov 2015 forecast: 354\n",
      "item_id: 6497.0, total items:6163.0, Nov 2015 forecast: 56\n",
      "item_id: 5272.0, total items:6017.0, Nov 2015 forecast: 35\n",
      "item_id: 7894.0, total items:6004.0, Nov 2015 forecast: 67\n",
      "item_id: 3183.0, total items:5996.0, Nov 2015 forecast: 30\n",
      "item_id: 6457.0, total items:5771.0, Nov 2015 forecast: 45\n",
      "item_id: 3928.0, total items:5768.0, Nov 2015 forecast: 35\n",
      "item_id: 2269.0, total items:5750.0, Nov 2015 forecast: 48\n",
      "item_id: 15044.0, total items:5731.0, Nov 2015 forecast: 21\n",
      "item_id: 13071.0, total items:5693.0, Nov 2015 forecast: 58\n",
      "item_id: 6466.0, total items:5658.0, Nov 2015 forecast: 10\n",
      "item_id: 6498.0, total items:5558.0, Nov 2015 forecast: 38\n",
      "item_id: 4178.0, total items:5350.0, Nov 2015 forecast: 112\n",
      "item_id: 5672.0, total items:5292.0, Nov 2015 forecast: 54\n",
      "item_id: 22088.0, total items:5280.0, Nov 2015 forecast: 134\n",
      "item_id: 7018.0, total items:5229.0, Nov 2015 forecast: 40\n",
      "item_id: 2416.0, total items:5166.0, Nov 2015 forecast: 73\n",
      "item_id: 7893.0, total items:5068.0, Nov 2015 forecast: 65\n",
      "item_id: 7096.0, total items:5063.0, Nov 2015 forecast: 17\n",
      "item_id: 2753.0, total items:4979.0, Nov 2015 forecast: 58\n",
      "item_id: 10210.0, total items:4882.0, Nov 2015 forecast: 65\n",
      "item_id: 1495.0, total items:4871.0, Nov 2015 forecast: 32\n",
      "item_id: 3329.0, total items:4821.0, Nov 2015 forecast: 27\n",
      "item_id: 6495.0, total items:4753.0, Nov 2015 forecast: 45\n",
      "item_id: 1916.0, total items:4723.0, Nov 2015 forecast: 44\n",
      "item_id: 9355.0, total items:4665.0, Nov 2015 forecast: 219\n",
      "item_id: 1849.0, total items:4624.0, Nov 2015 forecast: 8\n",
      "item_id: 3340.0, total items:4615.0, Nov 2015 forecast: 10\n",
      "item_id: 3341.0, total items:4606.0, Nov 2015 forecast: 39\n",
      "item_id: 1905.0, total items:4586.0, Nov 2015 forecast: 51\n",
      "item_id: 9242.0, total items:4571.0, Nov 2015 forecast: 108120204666875928584783778954750598700277570618985774799812296704\n",
      "item_id: 3343.0, total items:4493.0, Nov 2015 forecast: 45\n",
      "item_id: 7070.0, total items:4484.0, Nov 2015 forecast: 25\n",
      "item_id: 6488.0, total items:4335.0, Nov 2015 forecast: 54\n",
      "item_id: 4244.0, total items:4314.0, Nov 2015 forecast: 73\n",
      "item_id: 3077.0, total items:4257.0, Nov 2015 forecast: 43\n",
      "item_id: 12134.0, total items:4251.0, Nov 2015 forecast: 71\n",
      "item_id: 4872.0, total items:4248.0, Nov 2015 forecast: 50\n",
      "item_id: 10209.0, total items:4216.0, Nov 2015 forecast: 49\n",
      "item_id: 4231.0, total items:4186.0, Nov 2015 forecast: 28\n",
      "item_id: 3076.0, total items:4134.0, Nov 2015 forecast: 43\n",
      "item_id: 3342.0, total items:4132.0, Nov 2015 forecast: 21\n",
      "item_id: 7807.0, total items:4076.0, Nov 2015 forecast: 13\n",
      "item_id: 6490.0, total items:4018.0, Nov 2015 forecast: 49\n",
      "item_id: 4351.0, total items:3970.0, Nov 2015 forecast: 61\n",
      "item_id: 5820.0, total items:3966.0, Nov 2015 forecast: 108\n",
      "item_id: 6501.0, total items:3799.0, Nov 2015 forecast: 33\n",
      "item_id: 3719.0, total items:3762.0, Nov 2015 forecast: 39\n",
      "item_id: 3851.0, total items:3757.0, Nov 2015 forecast: 33\n",
      "item_id: 4248.0, total items:3712.0, Nov 2015 forecast: 47\n",
      "item_id: 15063.0, total items:3640.0, Nov 2015 forecast: 28\n"
     ]
    },
    {
     "name": "stderr",
     "output_type": "stream",
     "text": [
      "WARNING:fbprophet:Optimization terminated abnormally. Falling back to Newton.\n"
     ]
    },
    {
     "name": "stdout",
     "output_type": "stream",
     "text": [
      "item_id: 4249.0, total items:3597.0, Nov 2015 forecast: 62\n",
      "item_id: 3335.0, total items:3592.0, Nov 2015 forecast: 27\n",
      "item_id: 10298.0, total items:3567.0, Nov 2015 forecast: 64\n",
      "item_id: 1556.0, total items:3548.0, Nov 2015 forecast: 9\n",
      "item_id: 2252.0, total items:3546.0, Nov 2015 forecast: 74\n",
      "item_id: 16227.0, total items:3544.0, Nov 2015 forecast: 77\n",
      "item_id: 4806.0, total items:3536.0, Nov 2015 forecast: 133\n",
      "item_id: 21404.0, total items:3528.0, Nov 2015 forecast: 40\n",
      "item_id: 16169.0, total items:3502.0, Nov 2015 forecast: 81\n",
      "item_id: 1511.0, total items:3498.0, Nov 2015 forecast: 2\n",
      "item_id: 6502.0, total items:3495.0, Nov 2015 forecast: 8\n",
      "item_id: 22087.0, total items:3448.0, Nov 2015 forecast: 62\n",
      "item_id: 21440.0, total items:3406.0, Nov 2015 forecast: 36\n",
      "item_id: 7834.0, total items:3363.0, Nov 2015 forecast: 26\n",
      "item_id: 7172.0, total items:3355.0, Nov 2015 forecast: 58\n",
      "item_id: 12168.0, total items:3298.0, Nov 2015 forecast: 7\n",
      "item_id: 1555.0, total items:3202.0, Nov 2015 forecast: 8\n",
      "item_id: 6185.0, total items:3201.0, Nov 2015 forecast: 67\n",
      "item_id: 1516.0, total items:3200.0, Nov 2015 forecast: 11\n",
      "item_id: 5663.0, total items:3193.0, Nov 2015 forecast: 37\n",
      "item_id: 7805.0, total items:3193.0, Nov 2015 forecast: 20\n",
      "item_id: 16056.0, total items:3180.0, Nov 2015 forecast: 60\n",
      "item_id: 3432.0, total items:3175.0, Nov 2015 forecast: 13\n",
      "item_id: 20608.0, total items:3139.0, Nov 2015 forecast: 44\n",
      "item_id: 11811.0, total items:3139.0, Nov 2015 forecast: 36\n",
      "item_id: 3460.0, total items:3114.0, Nov 2015 forecast: 5\n",
      "item_id: 1512.0, total items:3094.0, Nov 2015 forecast: 5\n",
      "item_id: 2293.0, total items:3092.0, Nov 2015 forecast: 10\n",
      "item_id: 4886.0, total items:3090.0, Nov 2015 forecast: 23\n",
      "item_id: 5643.0, total items:3013.0, Nov 2015 forecast: 57\n",
      "item_id: 14227.0, total items:2998.0, Nov 2015 forecast: 100\n",
      "item_id: 4894.0, total items:2995.0, Nov 2015 forecast: 11\n",
      "item_id: 3325.0, total items:2984.0, Nov 2015 forecast: 18\n",
      "item_id: 6121.0, total items:2979.0, Nov 2015 forecast: 36\n",
      "item_id: 5035.0, total items:2931.0, Nov 2015 forecast: 30\n",
      "item_id: 1857.0, total items:2889.0, Nov 2015 forecast: 45\n",
      "item_id: 4164.0, total items:2850.0, Nov 2015 forecast: 5\n",
      "item_id: 3333.0, total items:2829.0, Nov 2015 forecast: 23\n",
      "item_id: 3320.0, total items:2821.0, Nov 2015 forecast: 19\n",
      "item_id: 3556.0, total items:2811.0, Nov 2015 forecast: 70\n",
      "item_id: 22076.0, total items:2810.0, Nov 2015 forecast: 65\n",
      "item_id: 13354.0, total items:2803.0, Nov 2015 forecast: 14\n",
      "item_id: 13881.0, total items:2801.0, Nov 2015 forecast: 42\n",
      "item_id: 3328.0, total items:2780.0, Nov 2015 forecast: 21\n",
      "item_id: 7071.0, total items:2773.0, Nov 2015 forecast: 46\n",
      "item_id: 5811.0, total items:2767.0, Nov 2015 forecast: 32\n"
     ]
    },
    {
     "ename": "KeyboardInterrupt",
     "evalue": "",
     "output_type": "error",
     "traceback": [
      "\u001b[0;31m---------------------------------------------------------------------------\u001b[0m",
      "\u001b[0;31mKeyboardInterrupt\u001b[0m                         Traceback (most recent call last)",
      "\u001b[0;32m<ipython-input-5-4f9120e3a56e>\u001b[0m in \u001b[0;36m<module>\u001b[0;34m\u001b[0m\n\u001b[1;32m     13\u001b[0m     \u001b[0mdf_fbprophet\u001b[0m\u001b[0;34m[\u001b[0m\u001b[0;34m'floor'\u001b[0m\u001b[0;34m]\u001b[0m\u001b[0;34m=\u001b[0m\u001b[0;34m-\u001b[0m\u001b[0;36m2\u001b[0m\u001b[0;34m\u001b[0m\u001b[0;34m\u001b[0m\u001b[0m\n\u001b[1;32m     14\u001b[0m     \u001b[0mdf_fbprophet\u001b[0m\u001b[0;34m[\u001b[0m\u001b[0;34m'cap'\u001b[0m\u001b[0;34m]\u001b[0m\u001b[0;34m=\u001b[0m\u001b[0mdf_fbprophet\u001b[0m\u001b[0;34m[\u001b[0m\u001b[0;34m'y'\u001b[0m\u001b[0;34m]\u001b[0m\u001b[0;34m.\u001b[0m\u001b[0mmax\u001b[0m\u001b[0;34m(\u001b[0m\u001b[0;34m)\u001b[0m\u001b[0;34m\u001b[0m\u001b[0;34m\u001b[0m\u001b[0m\n\u001b[0;32m---> 15\u001b[0;31m     \u001b[0mforecast\u001b[0m \u001b[0;34m=\u001b[0m \u001b[0mProphetForecast\u001b[0m\u001b[0;34m(\u001b[0m\u001b[0mdf_fbprophet\u001b[0m\u001b[0;34m)\u001b[0m\u001b[0;34m\u001b[0m\u001b[0;34m\u001b[0m\u001b[0m\n\u001b[0m\u001b[1;32m     16\u001b[0m     \u001b[0;31m# forecast for the whole month of November\u001b[0m\u001b[0;34m\u001b[0m\u001b[0;34m\u001b[0m\u001b[0;34m\u001b[0m\u001b[0m\n\u001b[1;32m     17\u001b[0m     \u001b[0mprint\u001b[0m\u001b[0;34m(\u001b[0m\u001b[0;34m'item_id: '\u001b[0m \u001b[0;34m+\u001b[0m \u001b[0mstr\u001b[0m\u001b[0;34m(\u001b[0m\u001b[0mrow\u001b[0m\u001b[0;34m[\u001b[0m\u001b[0;34m'item_id'\u001b[0m\u001b[0;34m]\u001b[0m\u001b[0;34m)\u001b[0m \u001b[0;34m+\u001b[0m \u001b[0;34m', total items:'\u001b[0m \u001b[0;34m+\u001b[0m \u001b[0mstr\u001b[0m\u001b[0;34m(\u001b[0m\u001b[0mrow\u001b[0m\u001b[0;34m[\u001b[0m\u001b[0;34m'item_cnt_total'\u001b[0m\u001b[0;34m]\u001b[0m\u001b[0;34m)\u001b[0m\u001b[0;34m,\u001b[0m \u001b[0mend\u001b[0m\u001b[0;34m=\u001b[0m\u001b[0;34m\"\"\u001b[0m\u001b[0;34m)\u001b[0m\u001b[0;34m\u001b[0m\u001b[0;34m\u001b[0m\u001b[0m\n",
      "\u001b[0;32m<ipython-input-2-7b33eac822f8>\u001b[0m in \u001b[0;36mProphetForecast\u001b[0;34m(df_input)\u001b[0m\n\u001b[1;32m     10\u001b[0m     \u001b[0mfuture\u001b[0m\u001b[0;34m[\u001b[0m\u001b[0;34m'floor'\u001b[0m\u001b[0;34m]\u001b[0m \u001b[0;34m=\u001b[0m \u001b[0;34m-\u001b[0m\u001b[0;36m2\u001b[0m\u001b[0;34m\u001b[0m\u001b[0;34m\u001b[0m\u001b[0m\n\u001b[1;32m     11\u001b[0m     \u001b[0mfuture\u001b[0m\u001b[0;34m[\u001b[0m\u001b[0;34m'cap'\u001b[0m\u001b[0;34m]\u001b[0m \u001b[0;34m=\u001b[0m \u001b[0mdf_input\u001b[0m\u001b[0;34m[\u001b[0m\u001b[0;34m'y'\u001b[0m\u001b[0;34m]\u001b[0m\u001b[0;34m.\u001b[0m\u001b[0mmax\u001b[0m\u001b[0;34m(\u001b[0m\u001b[0;34m)\u001b[0m\u001b[0;34m\u001b[0m\u001b[0;34m\u001b[0m\u001b[0m\n\u001b[0;32m---> 12\u001b[0;31m     \u001b[0mforecast\u001b[0m \u001b[0;34m=\u001b[0m \u001b[0mm\u001b[0m\u001b[0;34m.\u001b[0m\u001b[0mpredict\u001b[0m\u001b[0;34m(\u001b[0m\u001b[0mfuture\u001b[0m\u001b[0;34m)\u001b[0m\u001b[0;34m\u001b[0m\u001b[0;34m\u001b[0m\u001b[0m\n\u001b[0m\u001b[1;32m     13\u001b[0m     \u001b[0;32mreturn\u001b[0m \u001b[0mforecast\u001b[0m\u001b[0;34m\u001b[0m\u001b[0;34m\u001b[0m\u001b[0m\n",
      "\u001b[0;32m~/anaconda3/lib/python3.7/site-packages/fbprophet/forecaster.py\u001b[0m in \u001b[0;36mpredict\u001b[0;34m(self, df)\u001b[0m\n\u001b[1;32m   1174\u001b[0m         \u001b[0mdf\u001b[0m\u001b[0;34m[\u001b[0m\u001b[0;34m'trend'\u001b[0m\u001b[0;34m]\u001b[0m \u001b[0;34m=\u001b[0m \u001b[0mself\u001b[0m\u001b[0;34m.\u001b[0m\u001b[0mpredict_trend\u001b[0m\u001b[0;34m(\u001b[0m\u001b[0mdf\u001b[0m\u001b[0;34m)\u001b[0m\u001b[0;34m\u001b[0m\u001b[0;34m\u001b[0m\u001b[0m\n\u001b[1;32m   1175\u001b[0m         \u001b[0mseasonal_components\u001b[0m \u001b[0;34m=\u001b[0m \u001b[0mself\u001b[0m\u001b[0;34m.\u001b[0m\u001b[0mpredict_seasonal_components\u001b[0m\u001b[0;34m(\u001b[0m\u001b[0mdf\u001b[0m\u001b[0;34m)\u001b[0m\u001b[0;34m\u001b[0m\u001b[0;34m\u001b[0m\u001b[0m\n\u001b[0;32m-> 1176\u001b[0;31m         \u001b[0mintervals\u001b[0m \u001b[0;34m=\u001b[0m \u001b[0mself\u001b[0m\u001b[0;34m.\u001b[0m\u001b[0mpredict_uncertainty\u001b[0m\u001b[0;34m(\u001b[0m\u001b[0mdf\u001b[0m\u001b[0;34m)\u001b[0m\u001b[0;34m\u001b[0m\u001b[0;34m\u001b[0m\u001b[0m\n\u001b[0m\u001b[1;32m   1177\u001b[0m \u001b[0;34m\u001b[0m\u001b[0m\n\u001b[1;32m   1178\u001b[0m         \u001b[0;31m# Drop columns except ds, cap, floor, and trend\u001b[0m\u001b[0;34m\u001b[0m\u001b[0;34m\u001b[0m\u001b[0;34m\u001b[0m\u001b[0m\n",
      "\u001b[0;32m~/anaconda3/lib/python3.7/site-packages/fbprophet/forecaster.py\u001b[0m in \u001b[0;36mpredict_uncertainty\u001b[0;34m(self, df)\u001b[0m\n\u001b[1;32m   1384\u001b[0m         \u001b[0;32mfor\u001b[0m \u001b[0mkey\u001b[0m \u001b[0;32min\u001b[0m \u001b[0;34m[\u001b[0m\u001b[0;34m'yhat'\u001b[0m\u001b[0;34m,\u001b[0m \u001b[0;34m'trend'\u001b[0m\u001b[0;34m]\u001b[0m\u001b[0;34m:\u001b[0m\u001b[0;34m\u001b[0m\u001b[0;34m\u001b[0m\u001b[0m\n\u001b[1;32m   1385\u001b[0m             series['{}_lower'.format(key)] = np.nanpercentile(\n\u001b[0;32m-> 1386\u001b[0;31m                 sim_values[key], lower_p, axis=1)\n\u001b[0m\u001b[1;32m   1387\u001b[0m             series['{}_upper'.format(key)] = np.nanpercentile(\n\u001b[1;32m   1388\u001b[0m                 sim_values[key], upper_p, axis=1)\n",
      "\u001b[0;32m<__array_function__ internals>\u001b[0m in \u001b[0;36mnanpercentile\u001b[0;34m(*args, **kwargs)\u001b[0m\n",
      "\u001b[0;32m~/anaconda3/lib/python3.7/site-packages/numpy/lib/nanfunctions.py\u001b[0m in \u001b[0;36mnanpercentile\u001b[0;34m(a, q, axis, out, overwrite_input, interpolation, keepdims)\u001b[0m\n\u001b[1;32m   1243\u001b[0m         \u001b[0;32mraise\u001b[0m \u001b[0mValueError\u001b[0m\u001b[0;34m(\u001b[0m\u001b[0;34m\"Percentiles must be in the range [0, 100]\"\u001b[0m\u001b[0;34m)\u001b[0m\u001b[0;34m\u001b[0m\u001b[0;34m\u001b[0m\u001b[0m\n\u001b[1;32m   1244\u001b[0m     return _nanquantile_unchecked(\n\u001b[0;32m-> 1245\u001b[0;31m         a, q, axis, out, overwrite_input, interpolation, keepdims)\n\u001b[0m\u001b[1;32m   1246\u001b[0m \u001b[0;34m\u001b[0m\u001b[0m\n\u001b[1;32m   1247\u001b[0m \u001b[0;34m\u001b[0m\u001b[0m\n",
      "\u001b[0;32m~/anaconda3/lib/python3.7/site-packages/numpy/lib/nanfunctions.py\u001b[0m in \u001b[0;36m_nanquantile_unchecked\u001b[0;34m(a, q, axis, out, overwrite_input, interpolation, keepdims)\u001b[0m\n\u001b[1;32m   1369\u001b[0m     r, k = function_base._ureduce(\n\u001b[1;32m   1370\u001b[0m         \u001b[0ma\u001b[0m\u001b[0;34m,\u001b[0m \u001b[0mfunc\u001b[0m\u001b[0;34m=\u001b[0m\u001b[0m_nanquantile_ureduce_func\u001b[0m\u001b[0;34m,\u001b[0m \u001b[0mq\u001b[0m\u001b[0;34m=\u001b[0m\u001b[0mq\u001b[0m\u001b[0;34m,\u001b[0m \u001b[0maxis\u001b[0m\u001b[0;34m=\u001b[0m\u001b[0maxis\u001b[0m\u001b[0;34m,\u001b[0m \u001b[0mout\u001b[0m\u001b[0;34m=\u001b[0m\u001b[0mout\u001b[0m\u001b[0;34m,\u001b[0m\u001b[0;34m\u001b[0m\u001b[0;34m\u001b[0m\u001b[0m\n\u001b[0;32m-> 1371\u001b[0;31m         \u001b[0moverwrite_input\u001b[0m\u001b[0;34m=\u001b[0m\u001b[0moverwrite_input\u001b[0m\u001b[0;34m,\u001b[0m \u001b[0minterpolation\u001b[0m\u001b[0;34m=\u001b[0m\u001b[0minterpolation\u001b[0m\u001b[0;34m\u001b[0m\u001b[0;34m\u001b[0m\u001b[0m\n\u001b[0m\u001b[1;32m   1372\u001b[0m     )\n\u001b[1;32m   1373\u001b[0m     \u001b[0;32mif\u001b[0m \u001b[0mkeepdims\u001b[0m \u001b[0;32mand\u001b[0m \u001b[0mkeepdims\u001b[0m \u001b[0;32mis\u001b[0m \u001b[0;32mnot\u001b[0m \u001b[0mnp\u001b[0m\u001b[0;34m.\u001b[0m\u001b[0m_NoValue\u001b[0m\u001b[0;34m:\u001b[0m\u001b[0;34m\u001b[0m\u001b[0;34m\u001b[0m\u001b[0m\n",
      "\u001b[0;32m~/anaconda3/lib/python3.7/site-packages/numpy/lib/function_base.py\u001b[0m in \u001b[0;36m_ureduce\u001b[0;34m(a, func, **kwargs)\u001b[0m\n\u001b[1;32m   3408\u001b[0m         \u001b[0mkeepdim\u001b[0m \u001b[0;34m=\u001b[0m \u001b[0;34m(\u001b[0m\u001b[0;36m1\u001b[0m\u001b[0;34m,\u001b[0m\u001b[0;34m)\u001b[0m \u001b[0;34m*\u001b[0m \u001b[0ma\u001b[0m\u001b[0;34m.\u001b[0m\u001b[0mndim\u001b[0m\u001b[0;34m\u001b[0m\u001b[0;34m\u001b[0m\u001b[0m\n\u001b[1;32m   3409\u001b[0m \u001b[0;34m\u001b[0m\u001b[0m\n\u001b[0;32m-> 3410\u001b[0;31m     \u001b[0mr\u001b[0m \u001b[0;34m=\u001b[0m \u001b[0mfunc\u001b[0m\u001b[0;34m(\u001b[0m\u001b[0ma\u001b[0m\u001b[0;34m,\u001b[0m \u001b[0;34m**\u001b[0m\u001b[0mkwargs\u001b[0m\u001b[0;34m)\u001b[0m\u001b[0;34m\u001b[0m\u001b[0;34m\u001b[0m\u001b[0m\n\u001b[0m\u001b[1;32m   3411\u001b[0m     \u001b[0;32mreturn\u001b[0m \u001b[0mr\u001b[0m\u001b[0;34m,\u001b[0m \u001b[0mkeepdim\u001b[0m\u001b[0;34m\u001b[0m\u001b[0;34m\u001b[0m\u001b[0m\n\u001b[1;32m   3412\u001b[0m \u001b[0;34m\u001b[0m\u001b[0m\n",
      "\u001b[0;32m~/anaconda3/lib/python3.7/site-packages/numpy/lib/nanfunctions.py\u001b[0m in \u001b[0;36m_nanquantile_ureduce_func\u001b[0;34m(a, q, axis, out, overwrite_input, interpolation)\u001b[0m\n\u001b[1;32m   1389\u001b[0m     \u001b[0;32melse\u001b[0m\u001b[0;34m:\u001b[0m\u001b[0;34m\u001b[0m\u001b[0;34m\u001b[0m\u001b[0m\n\u001b[1;32m   1390\u001b[0m         result = np.apply_along_axis(_nanquantile_1d, axis, a, q,\n\u001b[0;32m-> 1391\u001b[0;31m                                      overwrite_input, interpolation)\n\u001b[0m\u001b[1;32m   1392\u001b[0m         \u001b[0;31m# apply_along_axis fills in collapsed axis with results.\u001b[0m\u001b[0;34m\u001b[0m\u001b[0;34m\u001b[0m\u001b[0;34m\u001b[0m\u001b[0m\n\u001b[1;32m   1393\u001b[0m         \u001b[0;31m# Move that axis to the beginning to match percentile's\u001b[0m\u001b[0;34m\u001b[0m\u001b[0;34m\u001b[0m\u001b[0;34m\u001b[0m\u001b[0m\n",
      "\u001b[0;32m<__array_function__ internals>\u001b[0m in \u001b[0;36mapply_along_axis\u001b[0;34m(*args, **kwargs)\u001b[0m\n",
      "\u001b[0;32m~/anaconda3/lib/python3.7/site-packages/numpy/lib/shape_base.py\u001b[0m in \u001b[0;36mapply_along_axis\u001b[0;34m(func1d, axis, arr, *args, **kwargs)\u001b[0m\n\u001b[1;32m    400\u001b[0m     \u001b[0mbuff\u001b[0m\u001b[0;34m[\u001b[0m\u001b[0mind0\u001b[0m\u001b[0;34m]\u001b[0m \u001b[0;34m=\u001b[0m \u001b[0mres\u001b[0m\u001b[0;34m\u001b[0m\u001b[0;34m\u001b[0m\u001b[0m\n\u001b[1;32m    401\u001b[0m     \u001b[0;32mfor\u001b[0m \u001b[0mind\u001b[0m \u001b[0;32min\u001b[0m \u001b[0minds\u001b[0m\u001b[0;34m:\u001b[0m\u001b[0;34m\u001b[0m\u001b[0;34m\u001b[0m\u001b[0m\n\u001b[0;32m--> 402\u001b[0;31m         \u001b[0mbuff\u001b[0m\u001b[0;34m[\u001b[0m\u001b[0mind\u001b[0m\u001b[0;34m]\u001b[0m \u001b[0;34m=\u001b[0m \u001b[0masanyarray\u001b[0m\u001b[0;34m(\u001b[0m\u001b[0mfunc1d\u001b[0m\u001b[0;34m(\u001b[0m\u001b[0minarr_view\u001b[0m\u001b[0;34m[\u001b[0m\u001b[0mind\u001b[0m\u001b[0;34m]\u001b[0m\u001b[0;34m,\u001b[0m \u001b[0;34m*\u001b[0m\u001b[0margs\u001b[0m\u001b[0;34m,\u001b[0m \u001b[0;34m**\u001b[0m\u001b[0mkwargs\u001b[0m\u001b[0;34m)\u001b[0m\u001b[0;34m)\u001b[0m\u001b[0;34m\u001b[0m\u001b[0;34m\u001b[0m\u001b[0m\n\u001b[0m\u001b[1;32m    403\u001b[0m \u001b[0;34m\u001b[0m\u001b[0m\n\u001b[1;32m    404\u001b[0m     \u001b[0;32mif\u001b[0m \u001b[0;32mnot\u001b[0m \u001b[0misinstance\u001b[0m\u001b[0;34m(\u001b[0m\u001b[0mres\u001b[0m\u001b[0;34m,\u001b[0m \u001b[0mmatrix\u001b[0m\u001b[0;34m)\u001b[0m\u001b[0;34m:\u001b[0m\u001b[0;34m\u001b[0m\u001b[0;34m\u001b[0m\u001b[0m\n",
      "\u001b[0;32m~/anaconda3/lib/python3.7/site-packages/numpy/lib/nanfunctions.py\u001b[0m in \u001b[0;36m_nanquantile_1d\u001b[0;34m(arr1d, q, overwrite_input, interpolation)\u001b[0m\n\u001b[1;32m   1412\u001b[0m \u001b[0;34m\u001b[0m\u001b[0m\n\u001b[1;32m   1413\u001b[0m     return function_base._quantile_unchecked(\n\u001b[0;32m-> 1414\u001b[0;31m         arr1d, q, overwrite_input=overwrite_input, interpolation=interpolation)\n\u001b[0m\u001b[1;32m   1415\u001b[0m \u001b[0;34m\u001b[0m\u001b[0m\n\u001b[1;32m   1416\u001b[0m \u001b[0;34m\u001b[0m\u001b[0m\n",
      "\u001b[0;32m~/anaconda3/lib/python3.7/site-packages/numpy/lib/function_base.py\u001b[0m in \u001b[0;36m_quantile_unchecked\u001b[0;34m(a, q, axis, out, overwrite_input, interpolation, keepdims)\u001b[0m\n\u001b[1;32m   3831\u001b[0m     r, k = _ureduce(a, func=_quantile_ureduce_func, q=q, axis=axis, out=out,\n\u001b[1;32m   3832\u001b[0m                     \u001b[0moverwrite_input\u001b[0m\u001b[0;34m=\u001b[0m\u001b[0moverwrite_input\u001b[0m\u001b[0;34m,\u001b[0m\u001b[0;34m\u001b[0m\u001b[0;34m\u001b[0m\u001b[0m\n\u001b[0;32m-> 3833\u001b[0;31m                     interpolation=interpolation)\n\u001b[0m\u001b[1;32m   3834\u001b[0m     \u001b[0;32mif\u001b[0m \u001b[0mkeepdims\u001b[0m\u001b[0;34m:\u001b[0m\u001b[0;34m\u001b[0m\u001b[0;34m\u001b[0m\u001b[0m\n\u001b[1;32m   3835\u001b[0m         \u001b[0;32mreturn\u001b[0m \u001b[0mr\u001b[0m\u001b[0;34m.\u001b[0m\u001b[0mreshape\u001b[0m\u001b[0;34m(\u001b[0m\u001b[0mq\u001b[0m\u001b[0;34m.\u001b[0m\u001b[0mshape\u001b[0m \u001b[0;34m+\u001b[0m \u001b[0mk\u001b[0m\u001b[0;34m)\u001b[0m\u001b[0;34m\u001b[0m\u001b[0;34m\u001b[0m\u001b[0m\n",
      "\u001b[0;32m~/anaconda3/lib/python3.7/site-packages/numpy/lib/function_base.py\u001b[0m in \u001b[0;36m_ureduce\u001b[0;34m(a, func, **kwargs)\u001b[0m\n\u001b[1;32m   3408\u001b[0m         \u001b[0mkeepdim\u001b[0m \u001b[0;34m=\u001b[0m \u001b[0;34m(\u001b[0m\u001b[0;36m1\u001b[0m\u001b[0;34m,\u001b[0m\u001b[0;34m)\u001b[0m \u001b[0;34m*\u001b[0m \u001b[0ma\u001b[0m\u001b[0;34m.\u001b[0m\u001b[0mndim\u001b[0m\u001b[0;34m\u001b[0m\u001b[0;34m\u001b[0m\u001b[0m\n\u001b[1;32m   3409\u001b[0m \u001b[0;34m\u001b[0m\u001b[0m\n\u001b[0;32m-> 3410\u001b[0;31m     \u001b[0mr\u001b[0m \u001b[0;34m=\u001b[0m \u001b[0mfunc\u001b[0m\u001b[0;34m(\u001b[0m\u001b[0ma\u001b[0m\u001b[0;34m,\u001b[0m \u001b[0;34m**\u001b[0m\u001b[0mkwargs\u001b[0m\u001b[0;34m)\u001b[0m\u001b[0;34m\u001b[0m\u001b[0;34m\u001b[0m\u001b[0m\n\u001b[0m\u001b[1;32m   3411\u001b[0m     \u001b[0;32mreturn\u001b[0m \u001b[0mr\u001b[0m\u001b[0;34m,\u001b[0m \u001b[0mkeepdim\u001b[0m\u001b[0;34m\u001b[0m\u001b[0;34m\u001b[0m\u001b[0m\n\u001b[1;32m   3412\u001b[0m \u001b[0;34m\u001b[0m\u001b[0m\n",
      "\u001b[0;32m~/anaconda3/lib/python3.7/site-packages/numpy/lib/function_base.py\u001b[0m in \u001b[0;36m_quantile_ureduce_func\u001b[0;34m(a, q, axis, out, overwrite_input, interpolation, keepdims)\u001b[0m\n\u001b[1;32m   3950\u001b[0m \u001b[0;34m\u001b[0m\u001b[0m\n\u001b[1;32m   3951\u001b[0m         \u001b[0;31m# ensure axis with q-th is first\u001b[0m\u001b[0;34m\u001b[0m\u001b[0;34m\u001b[0m\u001b[0;34m\u001b[0m\u001b[0m\n\u001b[0;32m-> 3952\u001b[0;31m         \u001b[0mx1\u001b[0m \u001b[0;34m=\u001b[0m \u001b[0mnp\u001b[0m\u001b[0;34m.\u001b[0m\u001b[0mmoveaxis\u001b[0m\u001b[0;34m(\u001b[0m\u001b[0mx1\u001b[0m\u001b[0;34m,\u001b[0m \u001b[0maxis\u001b[0m\u001b[0;34m,\u001b[0m \u001b[0;36m0\u001b[0m\u001b[0;34m)\u001b[0m\u001b[0;34m\u001b[0m\u001b[0;34m\u001b[0m\u001b[0m\n\u001b[0m\u001b[1;32m   3953\u001b[0m         \u001b[0mx2\u001b[0m \u001b[0;34m=\u001b[0m \u001b[0mnp\u001b[0m\u001b[0;34m.\u001b[0m\u001b[0mmoveaxis\u001b[0m\u001b[0;34m(\u001b[0m\u001b[0mx2\u001b[0m\u001b[0;34m,\u001b[0m \u001b[0maxis\u001b[0m\u001b[0;34m,\u001b[0m \u001b[0;36m0\u001b[0m\u001b[0;34m)\u001b[0m\u001b[0;34m\u001b[0m\u001b[0;34m\u001b[0m\u001b[0m\n\u001b[1;32m   3954\u001b[0m \u001b[0;34m\u001b[0m\u001b[0m\n",
      "\u001b[0;32m<__array_function__ internals>\u001b[0m in \u001b[0;36mmoveaxis\u001b[0;34m(*args, **kwargs)\u001b[0m\n",
      "\u001b[0;32m~/anaconda3/lib/python3.7/site-packages/numpy/core/numeric.py\u001b[0m in \u001b[0;36m_moveaxis_dispatcher\u001b[0;34m(a, source, destination)\u001b[0m\n\u001b[1;32m   1330\u001b[0m \u001b[0;34m\u001b[0m\u001b[0m\n\u001b[1;32m   1331\u001b[0m \u001b[0;34m\u001b[0m\u001b[0m\n\u001b[0;32m-> 1332\u001b[0;31m \u001b[0;32mdef\u001b[0m \u001b[0m_moveaxis_dispatcher\u001b[0m\u001b[0;34m(\u001b[0m\u001b[0ma\u001b[0m\u001b[0;34m,\u001b[0m \u001b[0msource\u001b[0m\u001b[0;34m,\u001b[0m \u001b[0mdestination\u001b[0m\u001b[0;34m)\u001b[0m\u001b[0;34m:\u001b[0m\u001b[0;34m\u001b[0m\u001b[0;34m\u001b[0m\u001b[0m\n\u001b[0m\u001b[1;32m   1333\u001b[0m     \u001b[0;32mreturn\u001b[0m \u001b[0;34m(\u001b[0m\u001b[0ma\u001b[0m\u001b[0;34m,\u001b[0m\u001b[0;34m)\u001b[0m\u001b[0;34m\u001b[0m\u001b[0;34m\u001b[0m\u001b[0m\n\u001b[1;32m   1334\u001b[0m \u001b[0;34m\u001b[0m\u001b[0m\n",
      "\u001b[0;31mKeyboardInterrupt\u001b[0m: "
     ]
    }
   ],
   "source": [
    "# create a yhat dataframe to put the forecasted data for each item\n",
    "yhat = df_sales[['ds']]\n",
    "for index, row in df_sales_totalitem.iterrows():\n",
    "    # create df for prophet\n",
    "    df_fbprophet = df_sales.loc[(df_sales['item_id']==row['item_id'])]\n",
    "    # sum the total sold for each day for this item\n",
    "    df_fbprophet = df_fbprophet.groupby(['ds'])['item_cnt_day'].sum().reset_index(name='y')\n",
    "\n",
    "    # convert to log space\n",
    "    df_fbprophet['y'] = np.log(df_fbprophet['y'])\n",
    "\n",
    "    # in logarithmic space 10-2 is 0.01\n",
    "    df_fbprophet['floor']=-2\n",
    "    df_fbprophet['cap']=df_fbprophet['y'].max()\n",
    "    forecast = ProphetForecast(df_fbprophet)\n",
    "    # forecast for the whole month of November\n",
    "    print('item_id: ' + str(row['item_id']) + ', total items:' + str(row['item_cnt_total']), end=\"\")\n",
    "    print(', Nov 2015 forecast: '\n",
    "          + str(int(round(np.exp(forecast.loc[(forecast['ds']>=pd.to_datetime('2015-11-1')) \n",
    "                             & (forecast['ds']<=pd.to_datetime('2015-11-30'))]['yhat']).sum()))))\n",
    "    # make a new column in forecast with the name of our item\n",
    "    #forecast[str(int(row['item_id']))] = np.exp(forecast['yhat'])\n",
    "    # merge that data into the correct date time in our dataframe\n",
    "    #yhat = pd.merge(yhat,forecast[['ds', str(int(row['item_id']))]], how='outer', on='ds')\n"
   ]
  },
  {
   "cell_type": "code",
   "execution_count": null,
   "metadata": {},
   "outputs": [],
   "source": [
    "#fig, ax = plt.subplots(figsize=(15,8))\n",
    "#ax = yhat.plot(ax=ax, x='ds', y='17717',  color='r',   legend=False, grid=True)\n",
    "#ax = yhat.plot(ax=ax, x='ds', y='20949',  color='b',   legend=False, grid=True)"
   ]
  },
  {
   "cell_type": "code",
   "execution_count": null,
   "metadata": {
    "scrolled": true
   },
   "outputs": [],
   "source": [
    "# 30 days of November\n",
    "yhat.loc[(yhat['ds']>=pd.to_datetime('2015-11-1'))\n",
    "             & (yhat['ds']<=pd.to_datetime('2015-11-30'))]"
   ]
  }
 ],
 "metadata": {
  "kernelspec": {
   "display_name": "Python 3",
   "language": "python",
   "name": "python3"
  },
  "language_info": {
   "codemirror_mode": {
    "name": "ipython",
    "version": 3
   },
   "file_extension": ".py",
   "mimetype": "text/x-python",
   "name": "python",
   "nbconvert_exporter": "python",
   "pygments_lexer": "ipython3",
   "version": "3.7.3"
  }
 },
 "nbformat": 4,
 "nbformat_minor": 2
}
