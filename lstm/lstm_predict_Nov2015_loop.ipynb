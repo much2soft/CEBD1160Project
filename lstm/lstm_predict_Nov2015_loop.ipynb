{
 "cells": [
  {
   "cell_type": "code",
   "execution_count": 1,
   "metadata": {},
   "outputs": [],
   "source": [
    "from numpy import array\n",
    "from tensorflow.keras.models import Sequential\n",
    "from tensorflow.keras.layers import LSTM\n",
    "from tensorflow.keras.layers import Dense\n",
    "from pylab import rcParams\n",
    "import statsmodels.api as sm\n",
    "\n",
    "import pandas as pd\n",
    "import seaborn as sns\n",
    "import numpy as np\n",
    "import matplotlib.pyplot as plt\n",
    "import datetime\n",
    "from dateutil.relativedelta import relativedelta"
   ]
  },
  {
   "cell_type": "code",
   "execution_count": 2,
   "metadata": {},
   "outputs": [],
   "source": [
    "# function to split a univariate sequence into samples\n",
    "def split_sequence(sequence, n_steps):\n",
    "    X, y = list(), list()\n",
    "    for i in range(len(sequence)):\n",
    "        # find the end of this pattern\n",
    "        end_ix = i + n_steps\n",
    "        # check if we are beyond the sequence\n",
    "        if end_ix > len(sequence)-1:\n",
    "            break\n",
    "        # gather input and output parts of the pattern\n",
    "        seq_x, seq_y = sequence[i:end_ix], sequence[end_ix]\n",
    "        X.append(seq_x)\n",
    "        y.append(seq_y)\n",
    "    return array(X), array(y)"
   ]
  },
  {
   "cell_type": "code",
   "execution_count": 3,
   "metadata": {},
   "outputs": [],
   "source": [
    "df_sales = pd.read_csv('../data/sales_train_v2.csv')\n",
    "# correct the date\n",
    "df_sales['date'] = pd.to_datetime(df_sales['date'], dayfirst=True)\n",
    "# to handle months with no data, first create an empty dataframe with all the dateblocks\n",
    "df_sales_month_empty = pd.DataFrame({'date_block_num':np.arange(34)})\n"
   ]
  },
  {
   "cell_type": "code",
   "execution_count": 4,
   "metadata": {},
   "outputs": [],
   "source": [
    "def LSTM_Predict(df_sales, shop_id):\n",
    "    # get the monthly item count\n",
    "    df_sales_month = df_sales.loc[(df_sales['shop_id']==shop_id)].groupby(['date_block_num'])['item_cnt_day'].sum().reset_index(name='item_tot_month')\n",
    "    # merge into the empty dataframe to have 0's for months with no sales\n",
    "    df_sales_month = pd.merge(df_sales_month_empty,df_sales_month, how='left', on='date_block_num').fillna(0)\n",
    "    # define the raw input sequence\n",
    "    raw_seq = df_sales_month['item_tot_month'].to_list()\n",
    "    # choose a number of time steps\n",
    "    n_steps = 5\n",
    "    # split into samples\n",
    "    X, y = split_sequence(raw_seq, n_steps)\n",
    "    n_train = len(raw_seq) - n_steps\n",
    "\n",
    "    # reshape from [samples, timesteps] into [samples, timesteps, features]\n",
    "    n_features = 1\n",
    "    X = X.reshape((X.shape[0], X.shape[1], n_features))\n",
    "    # define model\n",
    "    model = Sequential()\n",
    "    model.add(LSTM(50, activation='relu', input_shape=(n_steps, n_features)))\n",
    "    model.add(Dense(1))\n",
    "    model.compile(optimizer='adam', loss='mse')\n",
    "    # fit model\n",
    "    model.fit(X, y, epochs=200, verbose=0)\n",
    "    # predict using the last n_steps inputs\n",
    "    x_input = array(raw_seq[n_train:])\n",
    "    x_input = x_input.reshape((1, n_steps, n_features))\n",
    "    # print the prediction for November 2015\n",
    "    yhat = model.predict(x_input, verbose=0)\n",
    "    return yhat"
   ]
  },
  {
   "cell_type": "code",
   "execution_count": 5,
   "metadata": {},
   "outputs": [
    {
     "data": {
      "text/plain": [
       "array([[726.3396]], dtype=float32)"
      ]
     },
     "execution_count": 5,
     "metadata": {},
     "output_type": "execute_result"
    }
   ],
   "source": [
    "LSTM_Predict(df_sales, 59)"
   ]
  },
  {
   "cell_type": "code",
   "execution_count": 6,
   "metadata": {},
   "outputs": [
    {
     "data": {
      "text/html": [
       "<div>\n",
       "<style scoped>\n",
       "    .dataframe tbody tr th:only-of-type {\n",
       "        vertical-align: middle;\n",
       "    }\n",
       "\n",
       "    .dataframe tbody tr th {\n",
       "        vertical-align: top;\n",
       "    }\n",
       "\n",
       "    .dataframe thead th {\n",
       "        text-align: right;\n",
       "    }\n",
       "</style>\n",
       "<table border=\"1\" class=\"dataframe\">\n",
       "  <thead>\n",
       "    <tr style=\"text-align: right;\">\n",
       "      <th></th>\n",
       "      <th>shop_id</th>\n",
       "      <th>item_cnt_shop_id</th>\n",
       "    </tr>\n",
       "  </thead>\n",
       "  <tbody>\n",
       "    <tr>\n",
       "      <th>31</th>\n",
       "      <td>31</td>\n",
       "      <td>310777.0</td>\n",
       "    </tr>\n",
       "    <tr>\n",
       "      <th>25</th>\n",
       "      <td>25</td>\n",
       "      <td>241920.0</td>\n",
       "    </tr>\n",
       "    <tr>\n",
       "      <th>54</th>\n",
       "      <td>54</td>\n",
       "      <td>185790.0</td>\n",
       "    </tr>\n",
       "    <tr>\n",
       "      <th>28</th>\n",
       "      <td>28</td>\n",
       "      <td>184557.0</td>\n",
       "    </tr>\n",
       "    <tr>\n",
       "      <th>42</th>\n",
       "      <td>42</td>\n",
       "      <td>144934.0</td>\n",
       "    </tr>\n",
       "    <tr>\n",
       "      <th>57</th>\n",
       "      <td>57</td>\n",
       "      <td>141107.0</td>\n",
       "    </tr>\n",
       "    <tr>\n",
       "      <th>27</th>\n",
       "      <td>27</td>\n",
       "      <td>136657.0</td>\n",
       "    </tr>\n",
       "    <tr>\n",
       "      <th>6</th>\n",
       "      <td>6</td>\n",
       "      <td>100489.0</td>\n",
       "    </tr>\n",
       "    <tr>\n",
       "      <th>58</th>\n",
       "      <td>58</td>\n",
       "      <td>81734.0</td>\n",
       "    </tr>\n",
       "    <tr>\n",
       "      <th>46</th>\n",
       "      <td>46</td>\n",
       "      <td>78990.0</td>\n",
       "    </tr>\n",
       "  </tbody>\n",
       "</table>\n",
       "</div>"
      ],
      "text/plain": [
       "    shop_id  item_cnt_shop_id\n",
       "31       31          310777.0\n",
       "25       25          241920.0\n",
       "54       54          185790.0\n",
       "28       28          184557.0\n",
       "42       42          144934.0\n",
       "57       57          141107.0\n",
       "27       27          136657.0\n",
       "6         6          100489.0\n",
       "58       58           81734.0\n",
       "46       46           78990.0"
      ]
     },
     "execution_count": 6,
     "metadata": {},
     "output_type": "execute_result"
    }
   ],
   "source": [
    "df_sales_shop_total = df_sales.groupby(['shop_id'])['item_cnt_day'].sum().reset_index(name='item_cnt_shop_id')\n",
    "df_sales_shop_total = df_sales_shop_total.sort_values(by='item_cnt_shop_id',ascending=False)\n",
    "df_sales_shop_total.head(10)"
   ]
  },
  {
   "cell_type": "code",
   "execution_count": 7,
   "metadata": {},
   "outputs": [
    {
     "name": "stdout",
     "output_type": "stream",
     "text": [
      "Prediction for shop 31.0 is [7159.106]\n",
      "Prediction for shop 25.0 is [7143.699]\n",
      "Prediction for shop 54.0 is [0.01587937]\n",
      "Prediction for shop 28.0 is [3226.337]\n",
      "Prediction for shop 42.0 is [4149.655]\n",
      "Prediction for shop 57.0 is [2556.5422]\n",
      "Prediction for shop 27.0 is [1037.9011]\n",
      "Prediction for shop 6.0 is [477.75122]\n",
      "Prediction for shop 58.0 is [1296.3966]\n",
      "Prediction for shop 46.0 is [1567.5078]\n"
     ]
    }
   ],
   "source": [
    "for index, row in df_sales_shop_total.head(10).iterrows():\n",
    "     \n",
    "    yhat = LSTM_Predict(df_sales, row['shop_id'])\n",
    "    print ('Prediction for shop ' + str(row['shop_id']) + ' is ' + str(yhat[0]))"
   ]
  }
 ],
 "metadata": {
  "kernelspec": {
   "display_name": "Python 3",
   "language": "python",
   "name": "python3"
  },
  "language_info": {
   "codemirror_mode": {
    "name": "ipython",
    "version": 3
   },
   "file_extension": ".py",
   "mimetype": "text/x-python",
   "name": "python",
   "nbconvert_exporter": "python",
   "pygments_lexer": "ipython3",
   "version": "3.7.3"
  }
 },
 "nbformat": 4,
 "nbformat_minor": 2
}
