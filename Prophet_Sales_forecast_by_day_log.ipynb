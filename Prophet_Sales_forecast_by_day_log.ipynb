{
 "cells": [
  {
   "cell_type": "code",
   "execution_count": 1,
   "metadata": {},
   "outputs": [],
   "source": [
    "import pandas as pd\n",
    "import matplotlib.pyplot as plt\n",
    "import numpy as np\n",
    "import math\n",
    "\n",
    "from fbprophet import Prophet"
   ]
  },
  {
   "cell_type": "code",
   "execution_count": 2,
   "metadata": {},
   "outputs": [],
   "source": [
    "df_sales = pd.read_csv('sales_train_v2.csv')\n",
    "df_sales['date'] = pd.to_datetime(df_sales['date'],  dayfirst=True)"
   ]
  },
  {
   "cell_type": "code",
   "execution_count": 3,
   "metadata": {},
   "outputs": [
    {
     "data": {
      "text/html": [
       "<div>\n",
       "<style scoped>\n",
       "    .dataframe tbody tr th:only-of-type {\n",
       "        vertical-align: middle;\n",
       "    }\n",
       "\n",
       "    .dataframe tbody tr th {\n",
       "        vertical-align: top;\n",
       "    }\n",
       "\n",
       "    .dataframe thead th {\n",
       "        text-align: right;\n",
       "    }\n",
       "</style>\n",
       "<table border=\"1\" class=\"dataframe\">\n",
       "  <thead>\n",
       "    <tr style=\"text-align: right;\">\n",
       "      <th></th>\n",
       "      <th>date</th>\n",
       "      <th>log_item_cnt_day_total</th>\n",
       "    </tr>\n",
       "  </thead>\n",
       "  <tbody>\n",
       "    <tr>\n",
       "      <th>0</th>\n",
       "      <td>2013-10-29</td>\n",
       "      <td>4.543295</td>\n",
       "    </tr>\n",
       "    <tr>\n",
       "      <th>1</th>\n",
       "      <td>2013-10-30</td>\n",
       "      <td>4.488636</td>\n",
       "    </tr>\n",
       "    <tr>\n",
       "      <th>2</th>\n",
       "      <td>2013-10-31</td>\n",
       "      <td>4.532599</td>\n",
       "    </tr>\n",
       "    <tr>\n",
       "      <th>3</th>\n",
       "      <td>2013-11-01</td>\n",
       "      <td>4.454347</td>\n",
       "    </tr>\n",
       "    <tr>\n",
       "      <th>4</th>\n",
       "      <td>2013-11-02</td>\n",
       "      <td>4.709530</td>\n",
       "    </tr>\n",
       "    <tr>\n",
       "      <th>...</th>\n",
       "      <td>...</td>\n",
       "      <td>...</td>\n",
       "    </tr>\n",
       "    <tr>\n",
       "      <th>326</th>\n",
       "      <td>2014-12-31</td>\n",
       "      <td>0.693147</td>\n",
       "    </tr>\n",
       "    <tr>\n",
       "      <th>327</th>\n",
       "      <td>2015-01-03</td>\n",
       "      <td>0.000000</td>\n",
       "    </tr>\n",
       "    <tr>\n",
       "      <th>328</th>\n",
       "      <td>2015-01-05</td>\n",
       "      <td>0.000000</td>\n",
       "    </tr>\n",
       "    <tr>\n",
       "      <th>329</th>\n",
       "      <td>2015-01-06</td>\n",
       "      <td>0.693147</td>\n",
       "    </tr>\n",
       "    <tr>\n",
       "      <th>330</th>\n",
       "      <td>2015-01-10</td>\n",
       "      <td>0.000000</td>\n",
       "    </tr>\n",
       "  </tbody>\n",
       "</table>\n",
       "<p>331 rows × 2 columns</p>\n",
       "</div>"
      ],
      "text/plain": [
       "          date  log_item_cnt_day_total\n",
       "0   2013-10-29                4.543295\n",
       "1   2013-10-30                4.488636\n",
       "2   2013-10-31                4.532599\n",
       "3   2013-11-01                4.454347\n",
       "4   2013-11-02                4.709530\n",
       "..         ...                     ...\n",
       "326 2014-12-31                0.693147\n",
       "327 2015-01-03                0.000000\n",
       "328 2015-01-05                0.000000\n",
       "329 2015-01-06                0.693147\n",
       "330 2015-01-10                0.000000\n",
       "\n",
       "[331 rows x 2 columns]"
      ]
     },
     "execution_count": 3,
     "metadata": {},
     "output_type": "execute_result"
    }
   ],
   "source": [
    "df_sales_fbprophet = df_sales.loc[(df_sales['item_cnt_day']>0)&\n",
    "                                #(df_sales['date']>pd.to_datetime('2014-10-01'))&\n",
    "                                (df_sales['item_id']==1512)]\n",
    "                                \n",
    "df_sales_fbprophet = df_sales_fbprophet.groupby(['date'])['item_cnt_day'].sum().reset_index(name='item_cnt_day_total')\n",
    "df_sales_fbprophet['log_item_cnt_day_total'] = np.log(df_sales_fbprophet['item_cnt_day_total'])\n",
    "df_sales_fbprophet=df_sales_fbprophet[['date','log_item_cnt_day_total']]\n",
    "df_sales_fbprophet\n"
   ]
  },
  {
   "cell_type": "code",
   "execution_count": 4,
   "metadata": {},
   "outputs": [
    {
     "data": {
      "text/html": [
       "<div>\n",
       "<style scoped>\n",
       "    .dataframe tbody tr th:only-of-type {\n",
       "        vertical-align: middle;\n",
       "    }\n",
       "\n",
       "    .dataframe tbody tr th {\n",
       "        vertical-align: top;\n",
       "    }\n",
       "\n",
       "    .dataframe thead th {\n",
       "        text-align: right;\n",
       "    }\n",
       "</style>\n",
       "<table border=\"1\" class=\"dataframe\">\n",
       "  <thead>\n",
       "    <tr style=\"text-align: right;\">\n",
       "      <th></th>\n",
       "      <th>ds</th>\n",
       "      <th>y</th>\n",
       "      <th>floor</th>\n",
       "      <th>cap</th>\n",
       "    </tr>\n",
       "  </thead>\n",
       "  <tbody>\n",
       "    <tr>\n",
       "      <th>0</th>\n",
       "      <td>2013-10-29</td>\n",
       "      <td>4.543295</td>\n",
       "      <td>-2</td>\n",
       "      <td>4.70953</td>\n",
       "    </tr>\n",
       "    <tr>\n",
       "      <th>1</th>\n",
       "      <td>2013-10-30</td>\n",
       "      <td>4.488636</td>\n",
       "      <td>-2</td>\n",
       "      <td>4.70953</td>\n",
       "    </tr>\n",
       "    <tr>\n",
       "      <th>2</th>\n",
       "      <td>2013-10-31</td>\n",
       "      <td>4.532599</td>\n",
       "      <td>-2</td>\n",
       "      <td>4.70953</td>\n",
       "    </tr>\n",
       "    <tr>\n",
       "      <th>3</th>\n",
       "      <td>2013-11-01</td>\n",
       "      <td>4.454347</td>\n",
       "      <td>-2</td>\n",
       "      <td>4.70953</td>\n",
       "    </tr>\n",
       "    <tr>\n",
       "      <th>4</th>\n",
       "      <td>2013-11-02</td>\n",
       "      <td>4.709530</td>\n",
       "      <td>-2</td>\n",
       "      <td>4.70953</td>\n",
       "    </tr>\n",
       "    <tr>\n",
       "      <th>...</th>\n",
       "      <td>...</td>\n",
       "      <td>...</td>\n",
       "      <td>...</td>\n",
       "      <td>...</td>\n",
       "    </tr>\n",
       "    <tr>\n",
       "      <th>326</th>\n",
       "      <td>2014-12-31</td>\n",
       "      <td>0.693147</td>\n",
       "      <td>-2</td>\n",
       "      <td>4.70953</td>\n",
       "    </tr>\n",
       "    <tr>\n",
       "      <th>327</th>\n",
       "      <td>2015-01-03</td>\n",
       "      <td>0.000000</td>\n",
       "      <td>-2</td>\n",
       "      <td>4.70953</td>\n",
       "    </tr>\n",
       "    <tr>\n",
       "      <th>328</th>\n",
       "      <td>2015-01-05</td>\n",
       "      <td>0.000000</td>\n",
       "      <td>-2</td>\n",
       "      <td>4.70953</td>\n",
       "    </tr>\n",
       "    <tr>\n",
       "      <th>329</th>\n",
       "      <td>2015-01-06</td>\n",
       "      <td>0.693147</td>\n",
       "      <td>-2</td>\n",
       "      <td>4.70953</td>\n",
       "    </tr>\n",
       "    <tr>\n",
       "      <th>330</th>\n",
       "      <td>2015-01-10</td>\n",
       "      <td>0.000000</td>\n",
       "      <td>-2</td>\n",
       "      <td>4.70953</td>\n",
       "    </tr>\n",
       "  </tbody>\n",
       "</table>\n",
       "<p>331 rows × 4 columns</p>\n",
       "</div>"
      ],
      "text/plain": [
       "            ds         y  floor      cap\n",
       "0   2013-10-29  4.543295     -2  4.70953\n",
       "1   2013-10-30  4.488636     -2  4.70953\n",
       "2   2013-10-31  4.532599     -2  4.70953\n",
       "3   2013-11-01  4.454347     -2  4.70953\n",
       "4   2013-11-02  4.709530     -2  4.70953\n",
       "..         ...       ...    ...      ...\n",
       "326 2014-12-31  0.693147     -2  4.70953\n",
       "327 2015-01-03  0.000000     -2  4.70953\n",
       "328 2015-01-05  0.000000     -2  4.70953\n",
       "329 2015-01-06  0.693147     -2  4.70953\n",
       "330 2015-01-10  0.000000     -2  4.70953\n",
       "\n",
       "[331 rows x 4 columns]"
      ]
     },
     "execution_count": 4,
     "metadata": {},
     "output_type": "execute_result"
    }
   ],
   "source": [
    "df_sales_fbprophet = df_sales_fbprophet.rename(columns={\"date\": \"ds\", \"log_item_cnt_day_total\": \"y\"})\n",
    "df_sales_fbprophet['floor']=-2\n",
    "df_sales_fbprophet['cap']=df_sales_fbprophet['y'].max()\n",
    "df_sales_fbprophet"
   ]
  },
  {
   "cell_type": "code",
   "execution_count": 5,
   "metadata": {},
   "outputs": [
    {
     "name": "stderr",
     "output_type": "stream",
     "text": [
      "INFO:numexpr.utils:NumExpr defaulting to 2 threads.\n"
     ]
    },
    {
     "data": {
      "text/plain": [
       "<fbprophet.forecaster.Prophet at 0x7f625fe1fe80>"
      ]
     },
     "execution_count": 5,
     "metadata": {},
     "output_type": "execute_result"
    }
   ],
   "source": [
    "m = Prophet(daily_seasonality=False, yearly_seasonality=True, \n",
    "            seasonality_mode='multiplicative', growth='logistic')\n",
    "            #growth='logistic')\n",
    "m.fit(df_sales_fbprophet)"
   ]
  },
  {
   "cell_type": "code",
   "execution_count": 6,
   "metadata": {},
   "outputs": [
    {
     "data": {
      "text/plain": [
       "386"
      ]
     },
     "execution_count": 6,
     "metadata": {},
     "output_type": "execute_result"
    }
   ],
   "source": [
    "# find how many periods we need by finding the last day in the item\n",
    "days_to_predict = pd.to_datetime('2016-1-31') - df_sales_fbprophet['ds'].max()\n",
    "days_to_predict.days"
   ]
  },
  {
   "cell_type": "code",
   "execution_count": 7,
   "metadata": {},
   "outputs": [
    {
     "data": {
      "text/html": [
       "<div>\n",
       "<style scoped>\n",
       "    .dataframe tbody tr th:only-of-type {\n",
       "        vertical-align: middle;\n",
       "    }\n",
       "\n",
       "    .dataframe tbody tr th {\n",
       "        vertical-align: top;\n",
       "    }\n",
       "\n",
       "    .dataframe thead th {\n",
       "        text-align: right;\n",
       "    }\n",
       "</style>\n",
       "<table border=\"1\" class=\"dataframe\">\n",
       "  <thead>\n",
       "    <tr style=\"text-align: right;\">\n",
       "      <th></th>\n",
       "      <th>ds</th>\n",
       "      <th>floor</th>\n",
       "      <th>cap</th>\n",
       "    </tr>\n",
       "  </thead>\n",
       "  <tbody>\n",
       "    <tr>\n",
       "      <th>712</th>\n",
       "      <td>2016-01-27</td>\n",
       "      <td>-2</td>\n",
       "      <td>4.70953</td>\n",
       "    </tr>\n",
       "    <tr>\n",
       "      <th>713</th>\n",
       "      <td>2016-01-28</td>\n",
       "      <td>-2</td>\n",
       "      <td>4.70953</td>\n",
       "    </tr>\n",
       "    <tr>\n",
       "      <th>714</th>\n",
       "      <td>2016-01-29</td>\n",
       "      <td>-2</td>\n",
       "      <td>4.70953</td>\n",
       "    </tr>\n",
       "    <tr>\n",
       "      <th>715</th>\n",
       "      <td>2016-01-30</td>\n",
       "      <td>-2</td>\n",
       "      <td>4.70953</td>\n",
       "    </tr>\n",
       "    <tr>\n",
       "      <th>716</th>\n",
       "      <td>2016-01-31</td>\n",
       "      <td>-2</td>\n",
       "      <td>4.70953</td>\n",
       "    </tr>\n",
       "  </tbody>\n",
       "</table>\n",
       "</div>"
      ],
      "text/plain": [
       "            ds  floor      cap\n",
       "712 2016-01-27     -2  4.70953\n",
       "713 2016-01-28     -2  4.70953\n",
       "714 2016-01-29     -2  4.70953\n",
       "715 2016-01-30     -2  4.70953\n",
       "716 2016-01-31     -2  4.70953"
      ]
     },
     "execution_count": 7,
     "metadata": {},
     "output_type": "execute_result"
    }
   ],
   "source": [
    "# predict a few days into the future so we have a full month in November\n",
    "future = m.make_future_dataframe(periods=days_to_predict.days)\n",
    "future['floor']=-2\n",
    "future['cap']=df_sales_fbprophet['y'].max()\n",
    "\n",
    "future.tail()"
   ]
  },
  {
   "cell_type": "code",
   "execution_count": 8,
   "metadata": {},
   "outputs": [
    {
     "data": {
      "text/html": [
       "<div>\n",
       "<style scoped>\n",
       "    .dataframe tbody tr th:only-of-type {\n",
       "        vertical-align: middle;\n",
       "    }\n",
       "\n",
       "    .dataframe tbody tr th {\n",
       "        vertical-align: top;\n",
       "    }\n",
       "\n",
       "    .dataframe thead th {\n",
       "        text-align: right;\n",
       "    }\n",
       "</style>\n",
       "<table border=\"1\" class=\"dataframe\">\n",
       "  <thead>\n",
       "    <tr style=\"text-align: right;\">\n",
       "      <th></th>\n",
       "      <th>ds</th>\n",
       "      <th>yhat</th>\n",
       "      <th>yhat_lower</th>\n",
       "      <th>yhat_upper</th>\n",
       "    </tr>\n",
       "  </thead>\n",
       "  <tbody>\n",
       "    <tr>\n",
       "      <th>712</th>\n",
       "      <td>2016-01-27</td>\n",
       "      <td>-1.455430</td>\n",
       "      <td>-2.069498</td>\n",
       "      <td>-0.838050</td>\n",
       "    </tr>\n",
       "    <tr>\n",
       "      <th>713</th>\n",
       "      <td>2016-01-28</td>\n",
       "      <td>-1.532944</td>\n",
       "      <td>-2.167450</td>\n",
       "      <td>-0.832033</td>\n",
       "    </tr>\n",
       "    <tr>\n",
       "      <th>714</th>\n",
       "      <td>2016-01-29</td>\n",
       "      <td>-1.678654</td>\n",
       "      <td>-2.303053</td>\n",
       "      <td>-1.011692</td>\n",
       "    </tr>\n",
       "    <tr>\n",
       "      <th>715</th>\n",
       "      <td>2016-01-30</td>\n",
       "      <td>-1.844575</td>\n",
       "      <td>-2.467567</td>\n",
       "      <td>-1.187895</td>\n",
       "    </tr>\n",
       "    <tr>\n",
       "      <th>716</th>\n",
       "      <td>2016-01-31</td>\n",
       "      <td>-1.811191</td>\n",
       "      <td>-2.483935</td>\n",
       "      <td>-1.167545</td>\n",
       "    </tr>\n",
       "  </tbody>\n",
       "</table>\n",
       "</div>"
      ],
      "text/plain": [
       "            ds      yhat  yhat_lower  yhat_upper\n",
       "712 2016-01-27 -1.455430   -2.069498   -0.838050\n",
       "713 2016-01-28 -1.532944   -2.167450   -0.832033\n",
       "714 2016-01-29 -1.678654   -2.303053   -1.011692\n",
       "715 2016-01-30 -1.844575   -2.467567   -1.187895\n",
       "716 2016-01-31 -1.811191   -2.483935   -1.167545"
      ]
     },
     "execution_count": 8,
     "metadata": {},
     "output_type": "execute_result"
    }
   ],
   "source": [
    "forecast = m.predict(future)\n",
    "forecast[['ds', 'yhat', 'yhat_lower', 'yhat_upper']].tail()"
   ]
  },
  {
   "cell_type": "code",
   "execution_count": 9,
   "metadata": {},
   "outputs": [
    {
     "data": {
      "image/png": "[encoded data removed]",
      "text/plain": [
       "<Figure size 720x432 with 1 Axes>"
      ]
     },
     "metadata": {},
     "output_type": "display_data"
    }
   ],
   "source": [
    "fig1 = m.plot(forecast)"
   ]
  },
  {
   "cell_type": "code",
   "execution_count": 10,
   "metadata": {},
   "outputs": [
    {
     "data": {
      "text/plain": [
       "625    0.129879\n",
       "626    0.158957\n",
       "627    0.160949\n",
       "628    0.171603\n",
       "629    0.167246\n",
       "630    0.153319\n",
       "631    0.137929\n",
       "632    0.148395\n",
       "633    0.181552\n",
       "634    0.183062\n",
       "635    0.194188\n",
       "636    0.187925\n",
       "637    0.170842\n",
       "638    0.152340\n",
       "639    0.162758\n",
       "640    0.198055\n",
       "641    0.198356\n",
       "642    0.209256\n",
       "643    0.201390\n",
       "644    0.182135\n",
       "645    0.161694\n",
       "646    0.172447\n",
       "647    0.209901\n",
       "648    0.210001\n",
       "649    0.221509\n",
       "650    0.212991\n",
       "651    0.192317\n",
       "652    0.170359\n",
       "653    0.181479\n",
       "654    0.220695\n",
       "Name: yhat, dtype: float64"
      ]
     },
     "execution_count": 10,
     "metadata": {},
     "output_type": "execute_result"
    }
   ],
   "source": [
    "# 30 days of November\n",
    "np.exp(forecast.loc[(forecast['ds']>=pd.to_datetime('2015-11-1'))\n",
    "             & (forecast['ds']<=pd.to_datetime('2015-11-30'))]['yhat'])"
   ]
  },
  {
   "cell_type": "code",
   "execution_count": 11,
   "metadata": {
    "scrolled": true
   },
   "outputs": [
    {
     "data": {
      "text/plain": [
       "5.4035282068355395"
      ]
     },
     "execution_count": 11,
     "metadata": {},
     "output_type": "execute_result"
    }
   ],
   "source": [
    "# forecast for the whole month of November\n",
    "np.exp(forecast.loc[(forecast['ds']>=pd.to_datetime('2015-11-1'))\n",
    "             & (forecast['ds']<=pd.to_datetime('2015-11-30'))]['yhat']).sum()"
   ]
  }
 ],
 "metadata": {
  "kernelspec": {
   "display_name": "Python 3",
   "language": "python",
   "name": "python3"
  },
  "language_info": {
   "codemirror_mode": {
    "name": "ipython",
    "version": 3
   },
   "file_extension": ".py",
   "mimetype": "text/x-python",
   "name": "python",
   "nbconvert_exporter": "python",
   "pygments_lexer": "ipython3",
   "version": "3.7.3"
  }
 },
 "nbformat": 4,
 "nbformat_minor": 2
}
