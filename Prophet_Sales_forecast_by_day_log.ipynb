{
 "cells": [
  {
   "cell_type": "code",
   "execution_count": 1,
   "metadata": {},
   "outputs": [],
   "source": [
    "import pandas as pd\n",
    "import matplotlib.pyplot as plt\n",
    "import numpy as np\n",
    "import math\n",
    "\n",
    "from fbprophet import Prophet"
   ]
  },
  {
   "cell_type": "code",
   "execution_count": 2,
   "metadata": {},
   "outputs": [],
   "source": [
    "df_sales = pd.read_csv('sales_train_v2.csv')\n",
    "df_sales['date'] = pd.to_datetime(df_sales['date'],  dayfirst=True)"
   ]
  },
  {
   "cell_type": "code",
   "execution_count": 3,
   "metadata": {},
   "outputs": [
    {
     "data": {
      "text/html": [
       "<div>\n",
       "<style scoped>\n",
       "    .dataframe tbody tr th:only-of-type {\n",
       "        vertical-align: middle;\n",
       "    }\n",
       "\n",
       "    .dataframe tbody tr th {\n",
       "        vertical-align: top;\n",
       "    }\n",
       "\n",
       "    .dataframe thead th {\n",
       "        text-align: right;\n",
       "    }\n",
       "</style>\n",
       "<table border=\"1\" class=\"dataframe\">\n",
       "  <thead>\n",
       "    <tr style=\"text-align: right;\">\n",
       "      <th></th>\n",
       "      <th>date</th>\n",
       "      <th>log_item_cnt_day_total</th>\n",
       "    </tr>\n",
       "  </thead>\n",
       "  <tbody>\n",
       "    <tr>\n",
       "      <th>0</th>\n",
       "      <td>2015-04-14</td>\n",
       "      <td>8.249314</td>\n",
       "    </tr>\n",
       "    <tr>\n",
       "      <th>1</th>\n",
       "      <td>2015-04-15</td>\n",
       "      <td>6.864848</td>\n",
       "    </tr>\n",
       "    <tr>\n",
       "      <th>2</th>\n",
       "      <td>2015-04-16</td>\n",
       "      <td>6.194405</td>\n",
       "    </tr>\n",
       "    <tr>\n",
       "      <th>3</th>\n",
       "      <td>2015-04-17</td>\n",
       "      <td>5.874931</td>\n",
       "    </tr>\n",
       "    <tr>\n",
       "      <th>4</th>\n",
       "      <td>2015-04-18</td>\n",
       "      <td>5.916202</td>\n",
       "    </tr>\n",
       "    <tr>\n",
       "      <th>...</th>\n",
       "      <td>...</td>\n",
       "      <td>...</td>\n",
       "    </tr>\n",
       "    <tr>\n",
       "      <th>175</th>\n",
       "      <td>2015-10-27</td>\n",
       "      <td>1.609438</td>\n",
       "    </tr>\n",
       "    <tr>\n",
       "      <th>176</th>\n",
       "      <td>2015-10-28</td>\n",
       "      <td>2.302585</td>\n",
       "    </tr>\n",
       "    <tr>\n",
       "      <th>177</th>\n",
       "      <td>2015-10-29</td>\n",
       "      <td>2.079442</td>\n",
       "    </tr>\n",
       "    <tr>\n",
       "      <th>178</th>\n",
       "      <td>2015-10-30</td>\n",
       "      <td>2.079442</td>\n",
       "    </tr>\n",
       "    <tr>\n",
       "      <th>179</th>\n",
       "      <td>2015-10-31</td>\n",
       "      <td>1.386294</td>\n",
       "    </tr>\n",
       "  </tbody>\n",
       "</table>\n",
       "<p>180 rows × 2 columns</p>\n",
       "</div>"
      ],
      "text/plain": [
       "          date  log_item_cnt_day_total\n",
       "0   2015-04-14                8.249314\n",
       "1   2015-04-15                6.864848\n",
       "2   2015-04-16                6.194405\n",
       "3   2015-04-17                5.874931\n",
       "4   2015-04-18                5.916202\n",
       "..         ...                     ...\n",
       "175 2015-10-27                1.609438\n",
       "176 2015-10-28                2.302585\n",
       "177 2015-10-29                2.079442\n",
       "178 2015-10-30                2.079442\n",
       "179 2015-10-31                1.386294\n",
       "\n",
       "[180 rows x 2 columns]"
      ]
     },
     "execution_count": 3,
     "metadata": {},
     "output_type": "execute_result"
    }
   ],
   "source": [
    "df_sales_fbprophet = df_sales.loc[(df_sales['item_cnt_day']>0)&\n",
    "                                #(df_sales['date']>pd.to_datetime('2014-10-01'))&\n",
    "                                (df_sales['item_id']==3731)]\n",
    "                                \n",
    "df_sales_fbprophet = df_sales_fbprophet.groupby(['date'])['item_cnt_day'].sum().reset_index(name='item_cnt_day_total')\n",
    "df_sales_fbprophet['log_item_cnt_day_total'] = np.log(df_sales_fbprophet['item_cnt_day_total'])\n",
    "df_sales_fbprophet=df_sales_fbprophet[['date','log_item_cnt_day_total']]\n",
    "df_sales_fbprophet\n"
   ]
  },
  {
   "cell_type": "code",
   "execution_count": 4,
   "metadata": {},
   "outputs": [
    {
     "data": {
      "text/html": [
       "<div>\n",
       "<style scoped>\n",
       "    .dataframe tbody tr th:only-of-type {\n",
       "        vertical-align: middle;\n",
       "    }\n",
       "\n",
       "    .dataframe tbody tr th {\n",
       "        vertical-align: top;\n",
       "    }\n",
       "\n",
       "    .dataframe thead th {\n",
       "        text-align: right;\n",
       "    }\n",
       "</style>\n",
       "<table border=\"1\" class=\"dataframe\">\n",
       "  <thead>\n",
       "    <tr style=\"text-align: right;\">\n",
       "      <th></th>\n",
       "      <th>ds</th>\n",
       "      <th>y</th>\n",
       "      <th>floor</th>\n",
       "      <th>cap</th>\n",
       "    </tr>\n",
       "  </thead>\n",
       "  <tbody>\n",
       "    <tr>\n",
       "      <th>0</th>\n",
       "      <td>2015-04-14</td>\n",
       "      <td>8.249314</td>\n",
       "      <td>-1</td>\n",
       "      <td>8.249314</td>\n",
       "    </tr>\n",
       "    <tr>\n",
       "      <th>1</th>\n",
       "      <td>2015-04-15</td>\n",
       "      <td>6.864848</td>\n",
       "      <td>-1</td>\n",
       "      <td>8.249314</td>\n",
       "    </tr>\n",
       "    <tr>\n",
       "      <th>2</th>\n",
       "      <td>2015-04-16</td>\n",
       "      <td>6.194405</td>\n",
       "      <td>-1</td>\n",
       "      <td>8.249314</td>\n",
       "    </tr>\n",
       "    <tr>\n",
       "      <th>3</th>\n",
       "      <td>2015-04-17</td>\n",
       "      <td>5.874931</td>\n",
       "      <td>-1</td>\n",
       "      <td>8.249314</td>\n",
       "    </tr>\n",
       "    <tr>\n",
       "      <th>4</th>\n",
       "      <td>2015-04-18</td>\n",
       "      <td>5.916202</td>\n",
       "      <td>-1</td>\n",
       "      <td>8.249314</td>\n",
       "    </tr>\n",
       "    <tr>\n",
       "      <th>...</th>\n",
       "      <td>...</td>\n",
       "      <td>...</td>\n",
       "      <td>...</td>\n",
       "      <td>...</td>\n",
       "    </tr>\n",
       "    <tr>\n",
       "      <th>175</th>\n",
       "      <td>2015-10-27</td>\n",
       "      <td>1.609438</td>\n",
       "      <td>-1</td>\n",
       "      <td>8.249314</td>\n",
       "    </tr>\n",
       "    <tr>\n",
       "      <th>176</th>\n",
       "      <td>2015-10-28</td>\n",
       "      <td>2.302585</td>\n",
       "      <td>-1</td>\n",
       "      <td>8.249314</td>\n",
       "    </tr>\n",
       "    <tr>\n",
       "      <th>177</th>\n",
       "      <td>2015-10-29</td>\n",
       "      <td>2.079442</td>\n",
       "      <td>-1</td>\n",
       "      <td>8.249314</td>\n",
       "    </tr>\n",
       "    <tr>\n",
       "      <th>178</th>\n",
       "      <td>2015-10-30</td>\n",
       "      <td>2.079442</td>\n",
       "      <td>-1</td>\n",
       "      <td>8.249314</td>\n",
       "    </tr>\n",
       "    <tr>\n",
       "      <th>179</th>\n",
       "      <td>2015-10-31</td>\n",
       "      <td>1.386294</td>\n",
       "      <td>-1</td>\n",
       "      <td>8.249314</td>\n",
       "    </tr>\n",
       "  </tbody>\n",
       "</table>\n",
       "<p>180 rows × 4 columns</p>\n",
       "</div>"
      ],
      "text/plain": [
       "            ds         y  floor       cap\n",
       "0   2015-04-14  8.249314     -1  8.249314\n",
       "1   2015-04-15  6.864848     -1  8.249314\n",
       "2   2015-04-16  6.194405     -1  8.249314\n",
       "3   2015-04-17  5.874931     -1  8.249314\n",
       "4   2015-04-18  5.916202     -1  8.249314\n",
       "..         ...       ...    ...       ...\n",
       "175 2015-10-27  1.609438     -1  8.249314\n",
       "176 2015-10-28  2.302585     -1  8.249314\n",
       "177 2015-10-29  2.079442     -1  8.249314\n",
       "178 2015-10-30  2.079442     -1  8.249314\n",
       "179 2015-10-31  1.386294     -1  8.249314\n",
       "\n",
       "[180 rows x 4 columns]"
      ]
     },
     "execution_count": 4,
     "metadata": {},
     "output_type": "execute_result"
    }
   ],
   "source": [
    "df_sales_fbprophet = df_sales_fbprophet.rename(columns={\"date\": \"ds\", \"log_item_cnt_day_total\": \"y\"})\n",
    "df_sales_fbprophet['floor']=-1\n",
    "df_sales_fbprophet['cap']=df_sales_fbprophet['y'].max()\n",
    "df_sales_fbprophet"
   ]
  },
  {
   "cell_type": "code",
   "execution_count": 5,
   "metadata": {},
   "outputs": [
    {
     "name": "stderr",
     "output_type": "stream",
     "text": [
      "INFO:numexpr.utils:NumExpr defaulting to 2 threads.\n"
     ]
    },
    {
     "data": {
      "text/plain": [
       "<fbprophet.forecaster.Prophet at 0x7f06846c00f0>"
      ]
     },
     "execution_count": 5,
     "metadata": {},
     "output_type": "execute_result"
    }
   ],
   "source": [
    "m = Prophet(daily_seasonality=False, yearly_seasonality=True, \n",
    "            seasonality_mode='multiplicative', growth='logistic')\n",
    "            #growth='logistic')\n",
    "m.fit(df_sales_fbprophet)"
   ]
  },
  {
   "cell_type": "code",
   "execution_count": 6,
   "metadata": {},
   "outputs": [
    {
     "data": {
      "text/plain": [
       "92"
      ]
     },
     "execution_count": 6,
     "metadata": {},
     "output_type": "execute_result"
    }
   ],
   "source": [
    "# find how many periods we need by finding the last day in the item\n",
    "days_to_predict = pd.to_datetime('2016-1-31') - df_sales_fbprophet['ds'].max()\n",
    "days_to_predict.days"
   ]
  },
  {
   "cell_type": "code",
   "execution_count": 7,
   "metadata": {},
   "outputs": [
    {
     "data": {
      "text/html": [
       "<div>\n",
       "<style scoped>\n",
       "    .dataframe tbody tr th:only-of-type {\n",
       "        vertical-align: middle;\n",
       "    }\n",
       "\n",
       "    .dataframe tbody tr th {\n",
       "        vertical-align: top;\n",
       "    }\n",
       "\n",
       "    .dataframe thead th {\n",
       "        text-align: right;\n",
       "    }\n",
       "</style>\n",
       "<table border=\"1\" class=\"dataframe\">\n",
       "  <thead>\n",
       "    <tr style=\"text-align: right;\">\n",
       "      <th></th>\n",
       "      <th>ds</th>\n",
       "      <th>floor</th>\n",
       "      <th>cap</th>\n",
       "    </tr>\n",
       "  </thead>\n",
       "  <tbody>\n",
       "    <tr>\n",
       "      <th>267</th>\n",
       "      <td>2016-01-27</td>\n",
       "      <td>-1</td>\n",
       "      <td>8.249314</td>\n",
       "    </tr>\n",
       "    <tr>\n",
       "      <th>268</th>\n",
       "      <td>2016-01-28</td>\n",
       "      <td>-1</td>\n",
       "      <td>8.249314</td>\n",
       "    </tr>\n",
       "    <tr>\n",
       "      <th>269</th>\n",
       "      <td>2016-01-29</td>\n",
       "      <td>-1</td>\n",
       "      <td>8.249314</td>\n",
       "    </tr>\n",
       "    <tr>\n",
       "      <th>270</th>\n",
       "      <td>2016-01-30</td>\n",
       "      <td>-1</td>\n",
       "      <td>8.249314</td>\n",
       "    </tr>\n",
       "    <tr>\n",
       "      <th>271</th>\n",
       "      <td>2016-01-31</td>\n",
       "      <td>-1</td>\n",
       "      <td>8.249314</td>\n",
       "    </tr>\n",
       "  </tbody>\n",
       "</table>\n",
       "</div>"
      ],
      "text/plain": [
       "            ds  floor       cap\n",
       "267 2016-01-27     -1  8.249314\n",
       "268 2016-01-28     -1  8.249314\n",
       "269 2016-01-29     -1  8.249314\n",
       "270 2016-01-30     -1  8.249314\n",
       "271 2016-01-31     -1  8.249314"
      ]
     },
     "execution_count": 7,
     "metadata": {},
     "output_type": "execute_result"
    }
   ],
   "source": [
    "# predict a few days into the future so we have a full month in November\n",
    "future = m.make_future_dataframe(periods=days_to_predict.days)\n",
    "future['floor']=-1\n",
    "future['cap']=df_sales_fbprophet['y'].max()\n",
    "\n",
    "future.tail()"
   ]
  },
  {
   "cell_type": "code",
   "execution_count": 8,
   "metadata": {},
   "outputs": [
    {
     "data": {
      "text/html": [
       "<div>\n",
       "<style scoped>\n",
       "    .dataframe tbody tr th:only-of-type {\n",
       "        vertical-align: middle;\n",
       "    }\n",
       "\n",
       "    .dataframe tbody tr th {\n",
       "        vertical-align: top;\n",
       "    }\n",
       "\n",
       "    .dataframe thead th {\n",
       "        text-align: right;\n",
       "    }\n",
       "</style>\n",
       "<table border=\"1\" class=\"dataframe\">\n",
       "  <thead>\n",
       "    <tr style=\"text-align: right;\">\n",
       "      <th></th>\n",
       "      <th>ds</th>\n",
       "      <th>yhat</th>\n",
       "      <th>yhat_lower</th>\n",
       "      <th>yhat_upper</th>\n",
       "    </tr>\n",
       "  </thead>\n",
       "  <tbody>\n",
       "    <tr>\n",
       "      <th>267</th>\n",
       "      <td>2016-01-27</td>\n",
       "      <td>-0.778378</td>\n",
       "      <td>-1.298083</td>\n",
       "      <td>-0.303085</td>\n",
       "    </tr>\n",
       "    <tr>\n",
       "      <th>268</th>\n",
       "      <td>2016-01-28</td>\n",
       "      <td>-0.866030</td>\n",
       "      <td>-1.366012</td>\n",
       "      <td>-0.324971</td>\n",
       "    </tr>\n",
       "    <tr>\n",
       "      <th>269</th>\n",
       "      <td>2016-01-29</td>\n",
       "      <td>-0.972748</td>\n",
       "      <td>-1.470905</td>\n",
       "      <td>-0.430324</td>\n",
       "    </tr>\n",
       "    <tr>\n",
       "      <th>270</th>\n",
       "      <td>2016-01-30</td>\n",
       "      <td>-1.094902</td>\n",
       "      <td>-1.641651</td>\n",
       "      <td>-0.609424</td>\n",
       "    </tr>\n",
       "    <tr>\n",
       "      <th>271</th>\n",
       "      <td>2016-01-31</td>\n",
       "      <td>-1.151956</td>\n",
       "      <td>-1.609069</td>\n",
       "      <td>-0.600491</td>\n",
       "    </tr>\n",
       "  </tbody>\n",
       "</table>\n",
       "</div>"
      ],
      "text/plain": [
       "            ds      yhat  yhat_lower  yhat_upper\n",
       "267 2016-01-27 -0.778378   -1.298083   -0.303085\n",
       "268 2016-01-28 -0.866030   -1.366012   -0.324971\n",
       "269 2016-01-29 -0.972748   -1.470905   -0.430324\n",
       "270 2016-01-30 -1.094902   -1.641651   -0.609424\n",
       "271 2016-01-31 -1.151956   -1.609069   -0.600491"
      ]
     },
     "execution_count": 8,
     "metadata": {},
     "output_type": "execute_result"
    }
   ],
   "source": [
    "forecast = m.predict(future)\n",
    "forecast[['ds', 'yhat', 'yhat_lower', 'yhat_upper']].tail()"
   ]
  },
  {
   "cell_type": "code",
   "execution_count": 9,
   "metadata": {},
   "outputs": [
    {
     "data": {
      "image/png": "[encoded data removed]",
      "text/plain": [
       "<Figure size 720x432 with 1 Axes>"
      ]
     },
     "metadata": {},
     "output_type": "display_data"
    }
   ],
   "source": [
    "fig1 = m.plot(forecast)"
   ]
  },
  {
   "cell_type": "code",
   "execution_count": 10,
   "metadata": {},
   "outputs": [
    {
     "data": {
      "text/plain": [
       "180    4.140869\n",
       "181    4.084922\n",
       "182    3.981440\n",
       "183    3.802472\n",
       "184    3.713635\n",
       "185    3.654353\n",
       "186    3.609157\n",
       "187    3.372747\n",
       "188    3.236369\n",
       "189    3.069692\n",
       "190    2.864799\n",
       "191    2.706790\n",
       "192    2.564593\n",
       "193    2.431367\n",
       "194    2.227907\n",
       "195    2.075547\n",
       "196    1.923060\n",
       "197    1.770011\n",
       "198    1.644823\n",
       "199    1.535313\n",
       "200    1.438102\n",
       "201    1.332920\n",
       "202    1.250502\n",
       "203    1.176952\n",
       "204    1.112194\n",
       "205    1.059848\n",
       "206    1.015999\n",
       "207    0.978665\n",
       "208    0.949719\n",
       "209    0.926044\n",
       "Name: yhat, dtype: float64"
      ]
     },
     "execution_count": 10,
     "metadata": {},
     "output_type": "execute_result"
    }
   ],
   "source": [
    "# 30 days of November\n",
    "np.exp(forecast.loc[(forecast['ds']>=pd.to_datetime('2015-11-1'))\n",
    "             & (forecast['ds']<=pd.to_datetime('2015-11-30'))]['yhat'])"
   ]
  },
  {
   "cell_type": "code",
   "execution_count": 11,
   "metadata": {
    "scrolled": true
   },
   "outputs": [
    {
     "data": {
      "text/plain": [
       "69.65080967401231"
      ]
     },
     "execution_count": 11,
     "metadata": {},
     "output_type": "execute_result"
    }
   ],
   "source": [
    "# forecast for the whole month of November\n",
    "np.exp(forecast.loc[(forecast['ds']>=pd.to_datetime('2015-11-1'))\n",
    "             & (forecast['ds']<=pd.to_datetime('2015-11-30'))]['yhat']).sum()"
   ]
  }
 ],
 "metadata": {
  "kernelspec": {
   "display_name": "Python 3",
   "language": "python",
   "name": "python3"
  },
  "language_info": {
   "codemirror_mode": {
    "name": "ipython",
    "version": 3
   },
   "file_extension": ".py",
   "mimetype": "text/x-python",
   "name": "python",
   "nbconvert_exporter": "python",
   "pygments_lexer": "ipython3",
   "version": "3.7.3"
  }
 },
 "nbformat": 4,
 "nbformat_minor": 2
}
