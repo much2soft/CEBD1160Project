{
 "cells": [
  {
   "cell_type": "code",
   "execution_count": null,
   "metadata": {},
   "outputs": [],
   "source": [
    "import pandas as pd\n",
    "import matplotlib.pyplot as plt\n",
    "import numpy as np\n",
    "import math\n",
    "\n",
    "from fbprophet import Prophet"
   ]
  },
  {
   "cell_type": "code",
   "execution_count": null,
   "metadata": {},
   "outputs": [],
   "source": [
    "df_sales = pd.read_csv('sales_train_v2.csv')\n",
    "df_sales['date'] = pd.to_datetime(df_sales['date'],  dayfirst=True)"
   ]
  },
  {
   "cell_type": "code",
   "execution_count": null,
   "metadata": {},
   "outputs": [],
   "source": [
    "df_sales_fbprophet = df_sales.loc[(df_sales['item_cnt_day']>0)&\n",
    "                                #(df_sales['date']>pd.to_datetime('2014-10-01'))&\n",
    "                                (df_sales['item_id']==20949)]\n",
    "                                \n",
    "df_sales_fbprophet = df_sales_fbprophet.groupby(['date'])['item_cnt_day'].sum().reset_index(name='item_cnt_day_total')\n",
    "df_sales_fbprophet\n"
   ]
  },
  {
   "cell_type": "code",
   "execution_count": null,
   "metadata": {},
   "outputs": [],
   "source": [
    "df_sales_fbprophet = df_sales_fbprophet.rename(columns={\"date\": \"ds\", \"item_cnt_day_total\": \"y\"})\n",
    "df_sales_fbprophet['floor']=0\n",
    "df_sales_fbprophet['cap']=df_sales_fbprophet['y'].max()\n",
    "df_sales_fbprophet"
   ]
  },
  {
   "cell_type": "code",
   "execution_count": null,
   "metadata": {},
   "outputs": [],
   "source": [
    "m = Prophet(daily_seasonality=False, yearly_seasonality=True, \n",
    "            seasonality_mode='multiplicative', growth='logistic')\n",
    "m.fit(df_sales_fbprophet)"
   ]
  },
  {
   "cell_type": "code",
   "execution_count": null,
   "metadata": {},
   "outputs": [],
   "source": [
    "# find how many periods we need by finding the last day in the item\n",
    "days_to_predict = pd.to_datetime('2016-1-31') - df_sales_fbprophet['ds'].max()\n",
    "days_to_predict.days"
   ]
  },
  {
   "cell_type": "code",
   "execution_count": null,
   "metadata": {},
   "outputs": [],
   "source": [
    "# predict a few days into the future so we have a full month in November\n",
    "future = m.make_future_dataframe(periods=days_to_predict.days)\n",
    "future['floor']=0\n",
    "future['cap']=df_sales_fbprophet['y'].max()\n",
    "\n",
    "future.tail()"
   ]
  },
  {
   "cell_type": "code",
   "execution_count": null,
   "metadata": {},
   "outputs": [],
   "source": [
    "forecast = m.predict(future)\n",
    "forecast[['ds', 'yhat', 'yhat_lower', 'yhat_upper']].tail()"
   ]
  },
  {
   "cell_type": "code",
   "execution_count": null,
   "metadata": {},
   "outputs": [],
   "source": [
    "fig1 = m.plot(forecast)"
   ]
  },
  {
   "cell_type": "code",
   "execution_count": null,
   "metadata": {},
   "outputs": [],
   "source": [
    "# 30 days of November\n",
    "forecast.loc[(forecast['ds']>=pd.to_datetime('2015-11-1'))\n",
    "             & (forecast['ds']<=pd.to_datetime('2015-11-30'))]['yhat']"
   ]
  },
  {
   "cell_type": "code",
   "execution_count": null,
   "metadata": {},
   "outputs": [],
   "source": [
    "# forecast for the whole month of November\n",
    "forecast.loc[(forecast['ds']>=pd.to_datetime('2015-11-1'))\n",
    "             & (forecast['ds']<=pd.to_datetime('2015-11-30'))]['yhat'].sum()"
   ]
  }
 ],
 "metadata": {
  "kernelspec": {
   "display_name": "Python 3",
   "language": "python",
   "name": "python3"
  },
  "language_info": {
   "codemirror_mode": {
    "name": "ipython",
    "version": 3
   },
   "file_extension": ".py",
   "mimetype": "text/x-python",
   "name": "python",
   "nbconvert_exporter": "python",
   "pygments_lexer": "ipython3",
   "version": "3.7.3"
  }
 },
 "nbformat": 4,
 "nbformat_minor": 2
}
