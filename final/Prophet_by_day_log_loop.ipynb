{
 "cells": [
  {
   "cell_type": "code",
   "execution_count": 1,
   "metadata": {},
   "outputs": [],
   "source": [
    "import pandas as pd\n",
    "import matplotlib.pyplot as plt\n",
    "import numpy as np\n",
    "import seaborn as sns\n",
    "import math\n",
    "\n",
    "from fbprophet import Prophet"
   ]
  },
  {
   "cell_type": "markdown",
   "metadata": {},
   "source": [
    "# Functions"
   ]
  },
  {
   "cell_type": "code",
   "execution_count": 2,
   "metadata": {},
   "outputs": [],
   "source": [
    "# function to run Prophet and return the forecast\n",
    "def ProphetForecast(df_input):\n",
    "    m = Prophet(daily_seasonality=False, yearly_seasonality=True, \n",
    "            seasonality_mode='multiplicative', growth='logistic')\n",
    "    m.fit(df_input)\n",
    "    # find how many periods we need by finding the last day in the item\n",
    "    days_to_predict = pd.to_datetime('2016-1-31') - df_input['ds'].max()\n",
    "    future = m.make_future_dataframe(periods=days_to_predict.days)\n",
    "    # in logarithmic space 10-2 is 0.01\n",
    "    future['floor'] = -2\n",
    "    future['cap'] = df_input['y'].max()\n",
    "    forecast = m.predict(future)\n",
    "    return forecast"
   ]
  },
  {
   "cell_type": "markdown",
   "metadata": {},
   "source": [
    "# Load Data"
   ]
  },
  {
   "cell_type": "code",
   "execution_count": 3,
   "metadata": {},
   "outputs": [],
   "source": [
    "df_sales = pd.read_csv('../data/sales_train_v2.csv')"
   ]
  },
  {
   "cell_type": "markdown",
   "metadata": {},
   "source": [
    "#  Data Cleaning"
   ]
  },
  {
   "cell_type": "code",
   "execution_count": 4,
   "metadata": {},
   "outputs": [],
   "source": [
    "# make date-time format use day first\n",
    "df_sales['date'] = pd.to_datetime(df_sales['date'],  dayfirst=True)"
   ]
  },
  {
   "cell_type": "code",
   "execution_count": 5,
   "metadata": {},
   "outputs": [],
   "source": [
    "# remove 0 or negative item count\n",
    "df_sales = df_sales.loc[df_sales['item_cnt_day']>0]"
   ]
  },
  {
   "cell_type": "code",
   "execution_count": 6,
   "metadata": {},
   "outputs": [
    {
     "name": "stderr",
     "output_type": "stream",
     "text": [
      "INFO:numexpr.utils:NumExpr defaulting to 1 threads.\n"
     ]
    }
   ],
   "source": [
    "# Replace negative price with mean\n",
    "mean = int(df_sales.loc[df_sales['item_id']==2973, 'item_price'].mean())\n",
    "df_sales[\"item_price\"] = df_sales[\"item_price\"].mask(df_sales[\"item_price\"] <0, mean)"
   ]
  },
  {
   "cell_type": "code",
   "execution_count": 7,
   "metadata": {},
   "outputs": [],
   "source": [
    "# Get sales data only for items had sales after 2015-05-01\n",
    "df_sales_recent = df_sales[df_sales.date > '2015-05-01']\n",
    "df_item1 = df_sales_recent.drop(['date', 'date_block_num','shop_id','item_price','item_cnt_day'], axis=1)\n",
    "df_item2=df_item1.drop_duplicates()"
   ]
  },
  {
   "cell_type": "code",
   "execution_count": 8,
   "metadata": {},
   "outputs": [],
   "source": [
    "df_sales_recent_6m = pd.merge(left=df_item2,right=df_sales, how='left', on='item_id')"
   ]
  },
  {
   "cell_type": "code",
   "execution_count": 9,
   "metadata": {},
   "outputs": [
    {
     "data": {
      "text/plain": [
       "<matplotlib.axes._subplots.AxesSubplot at 0x7f0697771c10>"
      ]
     },
     "execution_count": 9,
     "metadata": {},
     "output_type": "execute_result"
    },
    {
     "data": {
      "image/png": "[encoded data removed]",
      "text/plain": [
       "<Figure size 720x288 with 1 Axes>"
      ]
     },
     "metadata": {
      "needs_background": "light"
     },
     "output_type": "display_data"
    },
    {
     "data": {
      "image/png": "[encoded data removed]",
      "text/plain": [
       "<Figure size 720x288 with 1 Axes>"
      ]
     },
     "metadata": {
      "needs_background": "light"
     },
     "output_type": "display_data"
    }
   ],
   "source": [
    "# Outlier exploration\n",
    "plt.figure(figsize=(10,4))\n",
    "plt.xlim(-100, 3000)\n",
    "sns.boxplot(x=df_sales_recent_6m.item_cnt_day)\n",
    "\n",
    "plt.figure(figsize=(10,4))\n",
    "plt.xlim(df_sales_recent_6m.item_price.min(), df_sales_recent_6m.item_price.max()*1.1)\n",
    "sns.boxplot(x=df_sales_recent_6m.item_price)"
   ]
  },
  {
   "cell_type": "code",
   "execution_count": 10,
   "metadata": {},
   "outputs": [
    {
     "data": {
      "text/html": [
       "<div>\n",
       "<style scoped>\n",
       "    .dataframe tbody tr th:only-of-type {\n",
       "        vertical-align: middle;\n",
       "    }\n",
       "\n",
       "    .dataframe tbody tr th {\n",
       "        vertical-align: top;\n",
       "    }\n",
       "\n",
       "    .dataframe thead th {\n",
       "        text-align: right;\n",
       "    }\n",
       "</style>\n",
       "<table border=\"1\" class=\"dataframe\">\n",
       "  <thead>\n",
       "    <tr style=\"text-align: right;\">\n",
       "      <th></th>\n",
       "      <th>item_id</th>\n",
       "      <th>date</th>\n",
       "      <th>date_block_num</th>\n",
       "      <th>shop_id</th>\n",
       "      <th>item_price</th>\n",
       "      <th>item_cnt_day</th>\n",
       "    </tr>\n",
       "  </thead>\n",
       "  <tbody>\n",
       "    <tr>\n",
       "      <td>0</td>\n",
       "      <td>15710</td>\n",
       "      <td>2013-04-30</td>\n",
       "      <td>3</td>\n",
       "      <td>25</td>\n",
       "      <td>349.0</td>\n",
       "      <td>1.0</td>\n",
       "    </tr>\n",
       "    <tr>\n",
       "      <td>1</td>\n",
       "      <td>15710</td>\n",
       "      <td>2013-04-27</td>\n",
       "      <td>3</td>\n",
       "      <td>25</td>\n",
       "      <td>349.0</td>\n",
       "      <td>4.0</td>\n",
       "    </tr>\n",
       "    <tr>\n",
       "      <td>2</td>\n",
       "      <td>15710</td>\n",
       "      <td>2013-04-26</td>\n",
       "      <td>3</td>\n",
       "      <td>25</td>\n",
       "      <td>349.0</td>\n",
       "      <td>1.0</td>\n",
       "    </tr>\n",
       "    <tr>\n",
       "      <td>3</td>\n",
       "      <td>15710</td>\n",
       "      <td>2013-04-25</td>\n",
       "      <td>3</td>\n",
       "      <td>25</td>\n",
       "      <td>349.0</td>\n",
       "      <td>2.0</td>\n",
       "    </tr>\n",
       "    <tr>\n",
       "      <td>4</td>\n",
       "      <td>15710</td>\n",
       "      <td>2013-04-27</td>\n",
       "      <td>3</td>\n",
       "      <td>21</td>\n",
       "      <td>349.0</td>\n",
       "      <td>1.0</td>\n",
       "    </tr>\n",
       "    <tr>\n",
       "      <td>...</td>\n",
       "      <td>...</td>\n",
       "      <td>...</td>\n",
       "      <td>...</td>\n",
       "      <td>...</td>\n",
       "      <td>...</td>\n",
       "      <td>...</td>\n",
       "    </tr>\n",
       "    <tr>\n",
       "      <td>2112327</td>\n",
       "      <td>7610</td>\n",
       "      <td>2015-10-29</td>\n",
       "      <td>33</td>\n",
       "      <td>25</td>\n",
       "      <td>2890.0</td>\n",
       "      <td>1.0</td>\n",
       "    </tr>\n",
       "    <tr>\n",
       "      <td>2112328</td>\n",
       "      <td>7635</td>\n",
       "      <td>2015-10-22</td>\n",
       "      <td>33</td>\n",
       "      <td>25</td>\n",
       "      <td>2100.0</td>\n",
       "      <td>1.0</td>\n",
       "    </tr>\n",
       "    <tr>\n",
       "      <td>2112329</td>\n",
       "      <td>7638</td>\n",
       "      <td>2015-01-18</td>\n",
       "      <td>24</td>\n",
       "      <td>25</td>\n",
       "      <td>1660.0</td>\n",
       "      <td>1.0</td>\n",
       "    </tr>\n",
       "    <tr>\n",
       "      <td>2112330</td>\n",
       "      <td>7638</td>\n",
       "      <td>2015-10-30</td>\n",
       "      <td>33</td>\n",
       "      <td>25</td>\n",
       "      <td>1890.0</td>\n",
       "      <td>1.0</td>\n",
       "    </tr>\n",
       "    <tr>\n",
       "      <td>2112331</td>\n",
       "      <td>7640</td>\n",
       "      <td>2015-10-01</td>\n",
       "      <td>33</td>\n",
       "      <td>25</td>\n",
       "      <td>4040.0</td>\n",
       "      <td>1.0</td>\n",
       "    </tr>\n",
       "  </tbody>\n",
       "</table>\n",
       "<p>2112323 rows × 6 columns</p>\n",
       "</div>"
      ],
      "text/plain": [
       "         item_id       date  date_block_num  shop_id  item_price  item_cnt_day\n",
       "0          15710 2013-04-30               3       25       349.0           1.0\n",
       "1          15710 2013-04-27               3       25       349.0           4.0\n",
       "2          15710 2013-04-26               3       25       349.0           1.0\n",
       "3          15710 2013-04-25               3       25       349.0           2.0\n",
       "4          15710 2013-04-27               3       21       349.0           1.0\n",
       "...          ...        ...             ...      ...         ...           ...\n",
       "2112327     7610 2015-10-29              33       25      2890.0           1.0\n",
       "2112328     7635 2015-10-22              33       25      2100.0           1.0\n",
       "2112329     7638 2015-01-18              24       25      1660.0           1.0\n",
       "2112330     7638 2015-10-30              33       25      1890.0           1.0\n",
       "2112331     7640 2015-10-01              33       25      4040.0           1.0\n",
       "\n",
       "[2112323 rows x 6 columns]"
      ]
     },
     "execution_count": 10,
     "metadata": {},
     "output_type": "execute_result"
    }
   ],
   "source": [
    "# Remove outliers on Price\n",
    "# Sales data for all items that have sales in the last 6 months\n",
    "df_sales_clean_all_items = df_sales_recent_6m[df_sales_recent_6m.item_price<40000]\n",
    "df_sales_clean_all_items"
   ]
  },
  {
   "cell_type": "markdown",
   "metadata": {},
   "source": [
    "# Create dataframe of most sold items"
   ]
  },
  {
   "cell_type": "code",
   "execution_count": 11,
   "metadata": {},
   "outputs": [
    {
     "data": {
      "text/html": [
       "<div>\n",
       "<style scoped>\n",
       "    .dataframe tbody tr th:only-of-type {\n",
       "        vertical-align: middle;\n",
       "    }\n",
       "\n",
       "    .dataframe tbody tr th {\n",
       "        vertical-align: top;\n",
       "    }\n",
       "\n",
       "    .dataframe thead th {\n",
       "        text-align: right;\n",
       "    }\n",
       "</style>\n",
       "<table border=\"1\" class=\"dataframe\">\n",
       "  <thead>\n",
       "    <tr style=\"text-align: right;\">\n",
       "      <th></th>\n",
       "      <th>item_id</th>\n",
       "      <th>item_cnt_total</th>\n",
       "    </tr>\n",
       "  </thead>\n",
       "  <tbody>\n",
       "    <tr>\n",
       "      <td>8373</td>\n",
       "      <td>20949</td>\n",
       "      <td>187660.0</td>\n",
       "    </tr>\n",
       "    <tr>\n",
       "      <td>1128</td>\n",
       "      <td>2808</td>\n",
       "      <td>17255.0</td>\n",
       "    </tr>\n",
       "    <tr>\n",
       "      <td>1547</td>\n",
       "      <td>3732</td>\n",
       "      <td>16676.0</td>\n",
       "    </tr>\n",
       "    <tr>\n",
       "      <td>7125</td>\n",
       "      <td>17717</td>\n",
       "      <td>15830.0</td>\n",
       "    </tr>\n",
       "    <tr>\n",
       "      <td>2423</td>\n",
       "      <td>5822</td>\n",
       "      <td>14522.0</td>\n",
       "    </tr>\n",
       "    <tr>\n",
       "      <td>1549</td>\n",
       "      <td>3734</td>\n",
       "      <td>11733.0</td>\n",
       "    </tr>\n",
       "    <tr>\n",
       "      <td>2733</td>\n",
       "      <td>6675</td>\n",
       "      <td>10315.0</td>\n",
       "    </tr>\n",
       "    <tr>\n",
       "      <td>1546</td>\n",
       "      <td>3731</td>\n",
       "      <td>10105.0</td>\n",
       "    </tr>\n",
       "    <tr>\n",
       "      <td>754</td>\n",
       "      <td>1855</td>\n",
       "      <td>10041.0</td>\n",
       "    </tr>\n",
       "    <tr>\n",
       "      <td>6815</td>\n",
       "      <td>16787</td>\n",
       "      <td>9255.0</td>\n",
       "    </tr>\n",
       "  </tbody>\n",
       "</table>\n",
       "</div>"
      ],
      "text/plain": [
       "      item_id  item_cnt_total\n",
       "8373    20949        187660.0\n",
       "1128     2808         17255.0\n",
       "1547     3732         16676.0\n",
       "7125    17717         15830.0\n",
       "2423     5822         14522.0\n",
       "1549     3734         11733.0\n",
       "2733     6675         10315.0\n",
       "1546     3731         10105.0\n",
       "754      1855         10041.0\n",
       "6815    16787          9255.0"
      ]
     },
     "execution_count": 11,
     "metadata": {},
     "output_type": "execute_result"
    }
   ],
   "source": [
    "# find the most sold items\n",
    "df_sales_totalitem = df_sales_clean_all_items.groupby(['item_id'])['item_cnt_day'].sum().reset_index(name='item_cnt_total')\n",
    "df_sales_totalitem = df_sales_totalitem.sort_values(by='item_cnt_total',ascending=False)\n",
    "df_sales_totalitem.head(10)"
   ]
  },
  {
   "cell_type": "markdown",
   "metadata": {},
   "source": [
    "# Loop starts here"
   ]
  },
  {
   "cell_type": "code",
   "execution_count": 12,
   "metadata": {},
   "outputs": [
    {
     "data": {
      "text/html": [
       "<div>\n",
       "<style scoped>\n",
       "    .dataframe tbody tr th:only-of-type {\n",
       "        vertical-align: middle;\n",
       "    }\n",
       "\n",
       "    .dataframe tbody tr th {\n",
       "        vertical-align: top;\n",
       "    }\n",
       "\n",
       "    .dataframe thead th {\n",
       "        text-align: right;\n",
       "    }\n",
       "</style>\n",
       "<table border=\"1\" class=\"dataframe\">\n",
       "  <thead>\n",
       "    <tr style=\"text-align: right;\">\n",
       "      <th></th>\n",
       "      <th>item_id</th>\n",
       "      <th>item_cnt_month</th>\n",
       "    </tr>\n",
       "  </thead>\n",
       "  <tbody>\n",
       "  </tbody>\n",
       "</table>\n",
       "</div>"
      ],
      "text/plain": [
       "Empty DataFrame\n",
       "Columns: [item_id, item_cnt_month]\n",
       "Index: []"
      ]
     },
     "execution_count": 12,
     "metadata": {},
     "output_type": "execute_result"
    }
   ],
   "source": [
    "# rename columns\n",
    "df_sales_clean_all_items = df_sales_clean_all_items.rename(columns={\"date\": \"ds\"})\n",
    "# create a submission dataframe\n",
    "submission = pd.DataFrame([], columns=['item_id', 'item_cnt_month'])\n",
    "submission"
   ]
  },
  {
   "cell_type": "code",
   "execution_count": 13,
   "metadata": {
    "scrolled": true
   },
   "outputs": [
    {
     "name": "stdout",
     "output_type": "stream",
     "text": [
      "item_id: 20949.0, total items:187660.0, Nov 2015 forecast: 3079.4\n",
      "item_id: 2808.0, total items:17255.0, Nov 2015 forecast: 40.2\n",
      "item_id: 3732.0, total items:16676.0, Nov 2015 forecast: 44.6\n",
      "item_id: 17717.0, total items:15830.0, Nov 2015 forecast: 732.7\n",
      "item_id: 5822.0, total items:14522.0, Nov 2015 forecast: 235.0\n",
      "item_id: 3734.0, total items:11733.0, Nov 2015 forecast: 45.3\n",
      "item_id: 6675.0, total items:10315.0, Nov 2015 forecast: 50.1\n",
      "item_id: 3731.0, total items:10105.0, Nov 2015 forecast: 50.9\n",
      "item_id: 1855.0, total items:10041.0, Nov 2015 forecast: 36.8\n",
      "item_id: 16787.0, total items:9255.0, Nov 2015 forecast: 24.6\n"
     ]
    }
   ],
   "source": [
    "\n",
    "# iterate through top 10\n",
    "number_of_items_to_predict = 10\n",
    "for index, row in df_sales_totalitem.head(number_of_items_to_predict).iterrows():\n",
    "    # create df for prophet\n",
    "    df_fbprophet = df_sales_clean_all_items.loc[(df_sales_clean_all_items['item_id']==row['item_id'])]\n",
    "    # sum the total sold for each day for this item\n",
    "    df_fbprophet = df_fbprophet.groupby(['ds'])['item_cnt_day'].sum().reset_index(name='y')\n",
    "\n",
    "    # convert to log scale\n",
    "    df_fbprophet['y'] = np.log(df_fbprophet['y'])\n",
    "\n",
    "    # in logarithmic space 10-2 is 0.01\n",
    "    df_fbprophet['floor']=-2\n",
    "    df_fbprophet['cap']=df_fbprophet['y'].max()\n",
    "    forecast = ProphetForecast(df_fbprophet)\n",
    "    # forecast for the whole month of November\n",
    "    item_cnt_nov2015 = np.exp(forecast.loc[(forecast['ds']>=pd.to_datetime('2015-11-1')) \n",
    "                             & (forecast['ds']<=pd.to_datetime('2015-11-30'))]['yhat']).sum()\n",
    "    print('item_id: ' + str(row['item_id']) + ', total items:' + str(row['item_cnt_total']), end=\"\")\n",
    "    print(', Nov 2015 forecast: ' + str(round(item_cnt_nov2015, 1)))\n",
    "    # make a new row in submission with the item_id\n",
    "    submission.loc[len(submission)] = [row['item_id'], round(item_cnt_nov2015, 1)]\n"
   ]
  },
  {
   "cell_type": "code",
   "execution_count": 14,
   "metadata": {
    "scrolled": true
   },
   "outputs": [
    {
     "data": {
      "text/html": [
       "<div>\n",
       "<style scoped>\n",
       "    .dataframe tbody tr th:only-of-type {\n",
       "        vertical-align: middle;\n",
       "    }\n",
       "\n",
       "    .dataframe tbody tr th {\n",
       "        vertical-align: top;\n",
       "    }\n",
       "\n",
       "    .dataframe thead th {\n",
       "        text-align: right;\n",
       "    }\n",
       "</style>\n",
       "<table border=\"1\" class=\"dataframe\">\n",
       "  <thead>\n",
       "    <tr style=\"text-align: right;\">\n",
       "      <th></th>\n",
       "      <th>item_id</th>\n",
       "      <th>item_cnt_month</th>\n",
       "    </tr>\n",
       "  </thead>\n",
       "  <tbody>\n",
       "    <tr>\n",
       "      <td>0</td>\n",
       "      <td>20949.0</td>\n",
       "      <td>3079.4</td>\n",
       "    </tr>\n",
       "    <tr>\n",
       "      <td>1</td>\n",
       "      <td>2808.0</td>\n",
       "      <td>40.2</td>\n",
       "    </tr>\n",
       "    <tr>\n",
       "      <td>2</td>\n",
       "      <td>3732.0</td>\n",
       "      <td>44.6</td>\n",
       "    </tr>\n",
       "    <tr>\n",
       "      <td>3</td>\n",
       "      <td>17717.0</td>\n",
       "      <td>732.7</td>\n",
       "    </tr>\n",
       "    <tr>\n",
       "      <td>4</td>\n",
       "      <td>5822.0</td>\n",
       "      <td>235.0</td>\n",
       "    </tr>\n",
       "    <tr>\n",
       "      <td>5</td>\n",
       "      <td>3734.0</td>\n",
       "      <td>45.3</td>\n",
       "    </tr>\n",
       "    <tr>\n",
       "      <td>6</td>\n",
       "      <td>6675.0</td>\n",
       "      <td>50.1</td>\n",
       "    </tr>\n",
       "    <tr>\n",
       "      <td>7</td>\n",
       "      <td>3731.0</td>\n",
       "      <td>50.9</td>\n",
       "    </tr>\n",
       "    <tr>\n",
       "      <td>8</td>\n",
       "      <td>1855.0</td>\n",
       "      <td>36.8</td>\n",
       "    </tr>\n",
       "    <tr>\n",
       "      <td>9</td>\n",
       "      <td>16787.0</td>\n",
       "      <td>24.6</td>\n",
       "    </tr>\n",
       "  </tbody>\n",
       "</table>\n",
       "</div>"
      ],
      "text/plain": [
       "   item_id  item_cnt_month\n",
       "0  20949.0          3079.4\n",
       "1   2808.0            40.2\n",
       "2   3732.0            44.6\n",
       "3  17717.0           732.7\n",
       "4   5822.0           235.0\n",
       "5   3734.0            45.3\n",
       "6   6675.0            50.1\n",
       "7   3731.0            50.9\n",
       "8   1855.0            36.8\n",
       "9  16787.0            24.6"
      ]
     },
     "execution_count": 14,
     "metadata": {},
     "output_type": "execute_result"
    }
   ],
   "source": [
    "submission"
   ]
  },
  {
   "cell_type": "code",
   "execution_count": 15,
   "metadata": {},
   "outputs": [],
   "source": [
    "submission.to_csv('../data/submission.csv', index=False)"
   ]
  }
 ],
 "metadata": {
  "kernelspec": {
   "display_name": "Python 3",
   "language": "python",
   "name": "python3"
  },
  "language_info": {
   "codemirror_mode": {
    "name": "ipython",
    "version": 3
   },
   "file_extension": ".py",
   "mimetype": "text/x-python",
   "name": "python",
   "nbconvert_exporter": "python",
   "pygments_lexer": "ipython3",
   "version": "3.7.4"
  }
 },
 "nbformat": 4,
 "nbformat_minor": 2
}
