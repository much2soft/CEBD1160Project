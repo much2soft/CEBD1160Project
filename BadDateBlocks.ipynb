{
 "cells": [
  {
   "cell_type": "code",
   "execution_count": 1,
   "metadata": {},
   "outputs": [],
   "source": [
    "import os\n",
    "import shutil\n",
    "import pandas as pd\n",
    "import seaborn as sns\n",
    "import matplotlib.pyplot as plt\n",
    "import numpy as np\n",
    "import math\n",
    "import datetime\n",
    "\n",
    "from fbprophet import Prophet"
   ]
  },
  {
   "cell_type": "code",
   "execution_count": 2,
   "metadata": {},
   "outputs": [],
   "source": [
    "df_sales = pd.read_csv('sales_train_v2.csv')"
   ]
  },
  {
   "cell_type": "code",
   "execution_count": 3,
   "metadata": {},
   "outputs": [
    {
     "data": {
      "text/html": [
       "<div>\n",
       "<style scoped>\n",
       "    .dataframe tbody tr th:only-of-type {\n",
       "        vertical-align: middle;\n",
       "    }\n",
       "\n",
       "    .dataframe tbody tr th {\n",
       "        vertical-align: top;\n",
       "    }\n",
       "\n",
       "    .dataframe thead th {\n",
       "        text-align: right;\n",
       "    }\n",
       "</style>\n",
       "<table border=\"1\" class=\"dataframe\">\n",
       "  <thead>\n",
       "    <tr style=\"text-align: right;\">\n",
       "      <th></th>\n",
       "      <th>date</th>\n",
       "      <th>date_block_num</th>\n",
       "      <th>shop_id</th>\n",
       "      <th>item_id</th>\n",
       "      <th>item_price</th>\n",
       "      <th>item_cnt_day</th>\n",
       "    </tr>\n",
       "  </thead>\n",
       "  <tbody>\n",
       "    <tr>\n",
       "      <td>2337086</td>\n",
       "      <td>2015-12-01</td>\n",
       "      <td>24</td>\n",
       "      <td>12</td>\n",
       "      <td>969</td>\n",
       "      <td>398.0</td>\n",
       "      <td>1.0</td>\n",
       "    </tr>\n",
       "    <tr>\n",
       "      <td>2487965</td>\n",
       "      <td>2015-11-03</td>\n",
       "      <td>26</td>\n",
       "      <td>46</td>\n",
       "      <td>969</td>\n",
       "      <td>298.0</td>\n",
       "      <td>1.0</td>\n",
       "    </tr>\n",
       "    <tr>\n",
       "      <td>2534289</td>\n",
       "      <td>2015-12-03</td>\n",
       "      <td>26</td>\n",
       "      <td>7</td>\n",
       "      <td>969</td>\n",
       "      <td>298.0</td>\n",
       "      <td>1.0</td>\n",
       "    </tr>\n",
       "    <tr>\n",
       "      <td>2864963</td>\n",
       "      <td>2015-12-09</td>\n",
       "      <td>32</td>\n",
       "      <td>14</td>\n",
       "      <td>969</td>\n",
       "      <td>198.0</td>\n",
       "      <td>2.0</td>\n",
       "    </tr>\n",
       "  </tbody>\n",
       "</table>\n",
       "</div>"
      ],
      "text/plain": [
       "              date  date_block_num  shop_id  item_id  item_price  item_cnt_day\n",
       "2337086 2015-12-01              24       12      969       398.0           1.0\n",
       "2487965 2015-11-03              26       46      969       298.0           1.0\n",
       "2534289 2015-12-03              26        7      969       298.0           1.0\n",
       "2864963 2015-12-09              32       14      969       198.0           2.0"
      ]
     },
     "execution_count": 3,
     "metadata": {},
     "output_type": "execute_result"
    }
   ],
   "source": [
    "# look at some bad data past 1 Nov 2015\n",
    "df_sales_bad = df_sales\n",
    "df_sales_bad['date'] = pd.to_datetime(df_sales_bad['date'])\n",
    "df_sales_bad = df_sales_bad.sort_values(by='date')\n",
    "\n",
    "df_sales_bad = df_sales.loc[(df_sales_bad['item_cnt_day']>0)&\n",
    "                                ((df_sales_bad['item_id']==969)) &\n",
    "                                  (df_sales_bad['date']>pd.to_datetime('2015-11-01'))&\n",
    "                               (df_sales_bad['date_block_num']<38)]\n",
    "\n",
    "df_sales_bad"
   ]
  },
  {
   "cell_type": "code",
   "execution_count": 4,
   "metadata": {},
   "outputs": [
    {
     "name": "stderr",
     "output_type": "stream",
     "text": [
      "INFO:numexpr.utils:NumExpr defaulting to 1 threads.\n"
     ]
    },
    {
     "name": "stdout",
     "output_type": "stream",
     "text": [
      "<class 'pandas.core.frame.DataFrame'>\n",
      "Int64Index: 1870740 entries, 109593 to 2902265\n",
      "Data columns (total 6 columns):\n",
      "date              datetime64[ns]\n",
      "date_block_num    int64\n",
      "shop_id           int64\n",
      "item_id           int64\n",
      "item_price        float64\n",
      "item_cnt_day      float64\n",
      "dtypes: datetime64[ns](1), float64(2), int64(3)\n",
      "memory usage: 99.9 MB\n"
     ]
    }
   ],
   "source": [
    "# good data is where the date block matches the date\n",
    "df_sales_good = df_sales\n",
    "df_sales_good['date'] = pd.to_datetime(df_sales_good['date'])\n",
    "df_sales_good = df_sales_good.sort_values(by='date')\n",
    "df_sales_good = df_sales_good.loc[(df_sales_good['date_block_num'] == \n",
    "                                 (df_sales_good['date'].dt.year-2013)*12 +\n",
    "                                 df_sales_good['date'].dt.month-1)]\n",
    "df_sales_good.info()\n",
    "\n",
    "\n"
   ]
  },
  {
   "cell_type": "code",
   "execution_count": null,
   "metadata": {},
   "outputs": [],
   "source": []
  }
 ],
 "metadata": {
  "kernelspec": {
   "display_name": "Python 3",
   "language": "python",
   "name": "python3"
  },
  "language_info": {
   "codemirror_mode": {
    "name": "ipython",
    "version": 3
   },
   "file_extension": ".py",
   "mimetype": "text/x-python",
   "name": "python",
   "nbconvert_exporter": "python",
   "pygments_lexer": "ipython3",
   "version": "3.7.4"
  }
 },
 "nbformat": 4,
 "nbformat_minor": 2
}
